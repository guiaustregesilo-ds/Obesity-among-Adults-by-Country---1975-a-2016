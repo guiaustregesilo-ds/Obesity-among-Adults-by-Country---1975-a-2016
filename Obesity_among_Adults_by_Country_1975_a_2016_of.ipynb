{
  "cells": [
    {
      "cell_type": "markdown",
      "metadata": {
        "id": "view-in-github",
        "colab_type": "text"
      },
      "source": [
        "<a href=\"https://colab.research.google.com/github/guiaustregesilo-ds/Obesity-among-Adults-by-Country---1975-a-2016/blob/main/Obesity_among_Adults_by_Country_1975_a_2016_of.ipynb\" target=\"_parent\"><img src=\"https://colab.research.google.com/assets/colab-badge.svg\" alt=\"Open In Colab\"/></a>"
      ]
    },
    {
      "cell_type": "markdown",
      "metadata": {
        "id": "SRZNxlvyx8mA"
      },
      "source": [
        "# 0.0 IMPORTS"
      ]
    },
    {
      "cell_type": "code",
      "execution_count": 99,
      "metadata": {
        "id": "_Kv-o7jgx8mD"
      },
      "outputs": [],
      "source": [
        "import inflection\n",
        "\n",
        "import pandas            as pd\n",
        "import numpy             as np\n",
        "import seaborn           as sns\n",
        "import matplotlib.pyplot as plt\n",
        "\n",
        "from google import colab"
      ]
    },
    {
      "cell_type": "code",
      "source": [
        "from google.colab import drive\n",
        "drive.mount('/content/drive')"
      ],
      "metadata": {
        "colab": {
          "base_uri": "https://localhost:8080/"
        },
        "id": "rT8dGeWO5dZa",
        "outputId": "8dc11e66-525b-4f9d-b2cd-d08ac34098cc"
      },
      "execution_count": 100,
      "outputs": [
        {
          "output_type": "stream",
          "name": "stdout",
          "text": [
            "Drive already mounted at /content/drive; to attempt to forcibly remount, call drive.mount(\"/content/drive\", force_remount=True).\n"
          ]
        }
      ]
    },
    {
      "cell_type": "markdown",
      "metadata": {
        "id": "vIvnSIYxx8mG"
      },
      "source": [
        "## 0.1 HELPER FUNCTIONS"
      ]
    },
    {
      "cell_type": "markdown",
      "metadata": {
        "id": "53q5uBC-x8mG"
      },
      "source": [
        "## 0.2 LOADING DATA"
      ]
    },
    {
      "cell_type": "code",
      "execution_count": 101,
      "metadata": {
        "id": "lhYP0uhlx8mH"
      },
      "outputs": [],
      "source": [
        "df_obesity = pd.read_csv('/content/drive/MyDrive/Colab Notebooks/Projeto Obesidade - Asimov/datasets/obesity_cleaned.csv', index_col=0)\n",
        "df_gdp = pd.read_csv('/content/drive/MyDrive/Colab Notebooks/Projeto Obesidade - Asimov/datasets/gdp.csv', decimal='.')"
      ]
    },
    {
      "cell_type": "markdown",
      "metadata": {
        "id": "dyb_0-a7x8mI"
      },
      "source": [
        "# 1.0 DATA DESCRIPTION"
      ]
    },
    {
      "cell_type": "code",
      "execution_count": 102,
      "metadata": {
        "id": "5IXkRRnAx8mJ"
      },
      "outputs": [],
      "source": [
        "df1_ob = df_obesity.copy()\n",
        "df1_gdp = df_gdp.copy()"
      ]
    },
    {
      "cell_type": "markdown",
      "metadata": {
        "id": "BCe7pDn4x8mK"
      },
      "source": [
        "## 1.1 Rename Columns"
      ]
    },
    {
      "cell_type": "markdown",
      "source": [
        "### 1.1.1 Obesity"
      ],
      "metadata": {
        "id": "3mlLtRQDzV3G"
      }
    },
    {
      "cell_type": "code",
      "execution_count": 103,
      "metadata": {
        "id": "ElNFqAq2x8mL",
        "outputId": "c409576b-1efc-4a73-ef89-7763ee64c959",
        "colab": {
          "base_uri": "https://localhost:8080/"
        }
      },
      "outputs": [
        {
          "output_type": "execute_result",
          "data": {
            "text/plain": [
              "Index(['Country', 'Year', 'Obesity (%)', 'Sex'], dtype='object')"
            ]
          },
          "metadata": {},
          "execution_count": 103
        }
      ],
      "source": [
        "df1_ob.columns"
      ]
    },
    {
      "cell_type": "code",
      "source": [
        "cols_old_ob = ['Country', 'Year', 'Obesity (%)', 'Sex']\n",
        "\n",
        "snakecase = lambda x: inflection.underscore(x)\n",
        "\n",
        "cols_new_ob = list(map(snakecase, cols_old_ob))\n",
        "\n",
        "# rename\n",
        "df1_ob.columns = cols_new_ob"
      ],
      "metadata": {
        "id": "b805aVdwlmVe"
      },
      "execution_count": 104,
      "outputs": []
    },
    {
      "cell_type": "code",
      "source": [
        "df1_ob.columns"
      ],
      "metadata": {
        "colab": {
          "base_uri": "https://localhost:8080/"
        },
        "id": "oHSq3NWIzsWK",
        "outputId": "86f0b761-01fe-44a3-a846-2df23a6d2c1d"
      },
      "execution_count": 105,
      "outputs": [
        {
          "output_type": "execute_result",
          "data": {
            "text/plain": [
              "Index(['country', 'year', 'obesity (%)', 'sex'], dtype='object')"
            ]
          },
          "metadata": {},
          "execution_count": 105
        }
      ]
    },
    {
      "cell_type": "markdown",
      "source": [
        "### 1.1.2 GDP"
      ],
      "metadata": {
        "id": "5rNv5nB7zxkx"
      }
    },
    {
      "cell_type": "code",
      "source": [
        "df1_gdp.columns"
      ],
      "metadata": {
        "colab": {
          "base_uri": "https://localhost:8080/"
        },
        "id": "NKgYgPw3z4Xk",
        "outputId": "a5294696-4481-4af8-cc65-1c3346cab044"
      },
      "execution_count": 106,
      "outputs": [
        {
          "output_type": "execute_result",
          "data": {
            "text/plain": [
              "Index(['Country', 'Region', 'Year', ' GDP_pp '], dtype='object')"
            ]
          },
          "metadata": {},
          "execution_count": 106
        }
      ]
    },
    {
      "cell_type": "code",
      "source": [
        "cols_old_gdp = ['Country', 'Region', 'Year', ' GDP_pp ']\n",
        "\n",
        "snakecase = lambda x: inflection.underscore(x)\n",
        "\n",
        "cols_new_gdp = list(map(snakecase, cols_old_gdp))\n",
        "\n",
        "# rename\n",
        "df1_gdp.columns = cols_new_gdp"
      ],
      "metadata": {
        "id": "A3J95pxiz--z"
      },
      "execution_count": 107,
      "outputs": []
    },
    {
      "cell_type": "code",
      "source": [
        "df1_gdp.columns"
      ],
      "metadata": {
        "colab": {
          "base_uri": "https://localhost:8080/"
        },
        "id": "oNleLbjB0OEJ",
        "outputId": "87f204bb-16ea-40c7-d4d0-35fc62201801"
      },
      "execution_count": 108,
      "outputs": [
        {
          "output_type": "execute_result",
          "data": {
            "text/plain": [
              "Index(['country', 'region', 'year', ' gdp_pp '], dtype='object')"
            ]
          },
          "metadata": {},
          "execution_count": 108
        }
      ]
    },
    {
      "cell_type": "markdown",
      "metadata": {
        "id": "Qw2er9VWx8mM"
      },
      "source": [
        "## 1.2 Data Dimension"
      ]
    },
    {
      "cell_type": "code",
      "execution_count": 109,
      "metadata": {
        "id": "K0zVaaERx8mM",
        "outputId": "b63aeea6-4ed7-420f-d259-2a39ef78c9ce",
        "colab": {
          "base_uri": "https://localhost:8080/"
        }
      },
      "outputs": [
        {
          "output_type": "stream",
          "name": "stdout",
          "text": [
            "Number of Rows Obesity: 24570\n",
            "Number of Columns Obesity: 4\n",
            "-------------------\n",
            "Number of Rows GDP: 4419\n",
            "Number of Columns GDP: 4\n"
          ]
        }
      ],
      "source": [
        "print('Number of Rows Obesity: {}'.format(df1_ob.shape[0]))\n",
        "print('Number of Columns Obesity: {}'.format(df1_ob.shape[1]))\n",
        "print('-------------------')\n",
        "print('Number of Rows GDP: {}'.format(df1_gdp.shape[0]))\n",
        "print('Number of Columns GDP: {}'.format(df1_gdp.shape[1]))"
      ]
    },
    {
      "cell_type": "markdown",
      "metadata": {
        "id": "VMcxdgA_x8mN"
      },
      "source": [
        "## 1.3 Data Types"
      ]
    },
    {
      "cell_type": "code",
      "execution_count": 110,
      "metadata": {
        "id": "uOqkDu5Ox8mO",
        "outputId": "9c1557ea-0afd-4d0e-c058-faeae0759095",
        "colab": {
          "base_uri": "https://localhost:8080/",
          "height": 0
        }
      },
      "outputs": [
        {
          "output_type": "execute_result",
          "data": {
            "text/plain": [
              "country        object\n",
              "year            int64\n",
              "obesity (%)    object\n",
              "sex            object\n",
              "dtype: object"
            ],
            "text/html": [
              "<div>\n",
              "<style scoped>\n",
              "    .dataframe tbody tr th:only-of-type {\n",
              "        vertical-align: middle;\n",
              "    }\n",
              "\n",
              "    .dataframe tbody tr th {\n",
              "        vertical-align: top;\n",
              "    }\n",
              "\n",
              "    .dataframe thead th {\n",
              "        text-align: right;\n",
              "    }\n",
              "</style>\n",
              "<table border=\"1\" class=\"dataframe\">\n",
              "  <thead>\n",
              "    <tr style=\"text-align: right;\">\n",
              "      <th></th>\n",
              "      <th>0</th>\n",
              "    </tr>\n",
              "  </thead>\n",
              "  <tbody>\n",
              "    <tr>\n",
              "      <th>country</th>\n",
              "      <td>object</td>\n",
              "    </tr>\n",
              "    <tr>\n",
              "      <th>year</th>\n",
              "      <td>int64</td>\n",
              "    </tr>\n",
              "    <tr>\n",
              "      <th>obesity (%)</th>\n",
              "      <td>object</td>\n",
              "    </tr>\n",
              "    <tr>\n",
              "      <th>sex</th>\n",
              "      <td>object</td>\n",
              "    </tr>\n",
              "  </tbody>\n",
              "</table>\n",
              "</div><br><label><b>dtype:</b> object</label>"
            ]
          },
          "metadata": {},
          "execution_count": 110
        }
      ],
      "source": [
        "df1_ob.dtypes"
      ]
    },
    {
      "cell_type": "code",
      "source": [
        "df1_gdp.dtypes"
      ],
      "metadata": {
        "colab": {
          "base_uri": "https://localhost:8080/",
          "height": 0
        },
        "id": "Vu6ZdEKi0wSD",
        "outputId": "fb4e7211-21bd-496a-d86d-2eb376005f96"
      },
      "execution_count": 111,
      "outputs": [
        {
          "output_type": "execute_result",
          "data": {
            "text/plain": [
              "country     object\n",
              "region      object\n",
              "year        object\n",
              " gdp_pp     object\n",
              "dtype: object"
            ],
            "text/html": [
              "<div>\n",
              "<style scoped>\n",
              "    .dataframe tbody tr th:only-of-type {\n",
              "        vertical-align: middle;\n",
              "    }\n",
              "\n",
              "    .dataframe tbody tr th {\n",
              "        vertical-align: top;\n",
              "    }\n",
              "\n",
              "    .dataframe thead th {\n",
              "        text-align: right;\n",
              "    }\n",
              "</style>\n",
              "<table border=\"1\" class=\"dataframe\">\n",
              "  <thead>\n",
              "    <tr style=\"text-align: right;\">\n",
              "      <th></th>\n",
              "      <th>0</th>\n",
              "    </tr>\n",
              "  </thead>\n",
              "  <tbody>\n",
              "    <tr>\n",
              "      <th>country</th>\n",
              "      <td>object</td>\n",
              "    </tr>\n",
              "    <tr>\n",
              "      <th>region</th>\n",
              "      <td>object</td>\n",
              "    </tr>\n",
              "    <tr>\n",
              "      <th>year</th>\n",
              "      <td>object</td>\n",
              "    </tr>\n",
              "    <tr>\n",
              "      <th>gdp_pp</th>\n",
              "      <td>object</td>\n",
              "    </tr>\n",
              "  </tbody>\n",
              "</table>\n",
              "</div><br><label><b>dtype:</b> object</label>"
            ]
          },
          "metadata": {},
          "execution_count": 111
        }
      ]
    },
    {
      "cell_type": "markdown",
      "metadata": {
        "id": "mb3hQOySx8mO"
      },
      "source": [
        "## 1.4 Check NA's"
      ]
    },
    {
      "cell_type": "code",
      "execution_count": 112,
      "metadata": {
        "id": "DOywW2-Sx8mO",
        "outputId": "c785b4f9-2c83-415b-bc29-281a15f7c063",
        "colab": {
          "base_uri": "https://localhost:8080/",
          "height": 0
        }
      },
      "outputs": [
        {
          "output_type": "execute_result",
          "data": {
            "text/plain": [
              "country        0\n",
              "year           0\n",
              "obesity (%)    0\n",
              "sex            0\n",
              "dtype: int64"
            ],
            "text/html": [
              "<div>\n",
              "<style scoped>\n",
              "    .dataframe tbody tr th:only-of-type {\n",
              "        vertical-align: middle;\n",
              "    }\n",
              "\n",
              "    .dataframe tbody tr th {\n",
              "        vertical-align: top;\n",
              "    }\n",
              "\n",
              "    .dataframe thead th {\n",
              "        text-align: right;\n",
              "    }\n",
              "</style>\n",
              "<table border=\"1\" class=\"dataframe\">\n",
              "  <thead>\n",
              "    <tr style=\"text-align: right;\">\n",
              "      <th></th>\n",
              "      <th>0</th>\n",
              "    </tr>\n",
              "  </thead>\n",
              "  <tbody>\n",
              "    <tr>\n",
              "      <th>country</th>\n",
              "      <td>0</td>\n",
              "    </tr>\n",
              "    <tr>\n",
              "      <th>year</th>\n",
              "      <td>0</td>\n",
              "    </tr>\n",
              "    <tr>\n",
              "      <th>obesity (%)</th>\n",
              "      <td>0</td>\n",
              "    </tr>\n",
              "    <tr>\n",
              "      <th>sex</th>\n",
              "      <td>0</td>\n",
              "    </tr>\n",
              "  </tbody>\n",
              "</table>\n",
              "</div><br><label><b>dtype:</b> int64</label>"
            ]
          },
          "metadata": {},
          "execution_count": 112
        }
      ],
      "source": [
        "df1_ob.isna().sum()"
      ]
    },
    {
      "cell_type": "code",
      "source": [
        "df1_gdp.isna().sum()"
      ],
      "metadata": {
        "colab": {
          "base_uri": "https://localhost:8080/",
          "height": 0
        },
        "id": "O3p86qkq08Za",
        "outputId": "904ca970-81ac-442a-8b32-59c26221f4b6"
      },
      "execution_count": 113,
      "outputs": [
        {
          "output_type": "execute_result",
          "data": {
            "text/plain": [
              "country     0\n",
              "region      0\n",
              "year        0\n",
              " gdp_pp     0\n",
              "dtype: int64"
            ],
            "text/html": [
              "<div>\n",
              "<style scoped>\n",
              "    .dataframe tbody tr th:only-of-type {\n",
              "        vertical-align: middle;\n",
              "    }\n",
              "\n",
              "    .dataframe tbody tr th {\n",
              "        vertical-align: top;\n",
              "    }\n",
              "\n",
              "    .dataframe thead th {\n",
              "        text-align: right;\n",
              "    }\n",
              "</style>\n",
              "<table border=\"1\" class=\"dataframe\">\n",
              "  <thead>\n",
              "    <tr style=\"text-align: right;\">\n",
              "      <th></th>\n",
              "      <th>0</th>\n",
              "    </tr>\n",
              "  </thead>\n",
              "  <tbody>\n",
              "    <tr>\n",
              "      <th>country</th>\n",
              "      <td>0</td>\n",
              "    </tr>\n",
              "    <tr>\n",
              "      <th>region</th>\n",
              "      <td>0</td>\n",
              "    </tr>\n",
              "    <tr>\n",
              "      <th>year</th>\n",
              "      <td>0</td>\n",
              "    </tr>\n",
              "    <tr>\n",
              "      <th>gdp_pp</th>\n",
              "      <td>0</td>\n",
              "    </tr>\n",
              "  </tbody>\n",
              "</table>\n",
              "</div><br><label><b>dtype:</b> int64</label>"
            ]
          },
          "metadata": {},
          "execution_count": 113
        }
      ]
    },
    {
      "cell_type": "markdown",
      "metadata": {
        "id": "QnFiNJOZx8mP"
      },
      "source": [
        "### 1.4.1 - Column Obesity(%) - Obesity"
      ]
    },
    {
      "cell_type": "code",
      "execution_count": 114,
      "metadata": {
        "id": "S-W0YKdsx8mP"
      },
      "outputs": [],
      "source": [
        "# conferindo a coluna 'Obesity (%)'\n",
        "\n",
        "df1_ob['obesity (%)'].value_counts()\n",
        "\n",
        "# separar infos com o split\n",
        "\n",
        "#df1['Obesity (%)'].iloc[0].split()\n",
        "\n",
        "# função para limpar os dados\n",
        "\n",
        "df1_ob['obesity'] = df1_ob['obesity (%)'].apply(lambda x:x.split()[0])\n",
        "\n",
        "# substituindo os valores faltantes por NA'set\n",
        "\n",
        "df1_ob.loc[df1_ob['obesity'] == 'No', 'obesity'] = np.nan\n",
        "\n",
        "# dropando os NaN'set\n",
        "\n",
        "df1_ob['obesity'] = df1_ob['obesity'].dropna()\n",
        "\n",
        "# dropando a coluna 'Obesity (%)'\n",
        "\n",
        "df1_ob.drop('obesity (%)', axis=1, inplace=True)"
      ]
    },
    {
      "cell_type": "markdown",
      "source": [
        "### 1.4.2 - Columns Year - GDP"
      ],
      "metadata": {
        "id": "3J8sPkbQ1Su3"
      }
    },
    {
      "cell_type": "code",
      "source": [
        "# limpando a coluna year e transformando em int\n",
        "\n",
        "df1_gdp[\"year\"] = df1_gdp[\"year\"].astype(str).apply(lambda x: int(x.split(\"/\")[-1]))\n",
        "\n",
        "#df1_gdp['year'] = df1_gdp['year'].astype(str).apply(lambda x: int(x.split('/')[-1]) if '/' in x else int(x))\n"
      ],
      "metadata": {
        "id": "eEzH2YEf26Ot"
      },
      "execution_count": 115,
      "outputs": []
    },
    {
      "cell_type": "markdown",
      "source": [
        "### 1.4.3 - Column GDP_PP"
      ],
      "metadata": {
        "id": "QqlnVQ5c6X2X"
      }
    },
    {
      "cell_type": "code",
      "source": [
        "df1_gdp['gdp_pp'] = df1_gdp[' gdp_pp '].apply(lambda x: float(x.split()[0].replace(',', '')))\n",
        "\n",
        "df1_gdp.drop(' gdp_pp ', axis=1, inplace=True)\n"
      ],
      "metadata": {
        "id": "szzvpySh6gel"
      },
      "execution_count": 116,
      "outputs": []
    },
    {
      "cell_type": "markdown",
      "metadata": {
        "id": "EXr73XZfx8mQ"
      },
      "source": [
        "## 1.5 Change Types"
      ]
    },
    {
      "cell_type": "code",
      "execution_count": 117,
      "metadata": {
        "id": "fU2fNMssx8mQ"
      },
      "outputs": [],
      "source": [
        "df1_ob['obesity'] = df1_ob['obesity'].apply(lambda x: float(x))\n",
        "df1_ob['year'] = df1_ob['year'].apply(lambda x: int(x))"
      ]
    },
    {
      "cell_type": "markdown",
      "metadata": {
        "id": "tqFmmBR9x8mR"
      },
      "source": [
        "## 1.6 Descriptive Statistical"
      ]
    },
    {
      "cell_type": "code",
      "execution_count": 118,
      "metadata": {
        "id": "toFsk94wx8mR"
      },
      "outputs": [],
      "source": [
        "num_attributes_ob = df1_ob.select_dtypes(include=['int64', 'float64'])\n",
        "cat_attributes_ob = df1_ob.select_dtypes(exclude=['int64', 'float64','datetime'])"
      ]
    },
    {
      "cell_type": "code",
      "source": [
        "num_attributes_gdp = df1_gdp.select_dtypes(include=['int64', 'float64'])\n",
        "cat_attributes_gdp = df1_gdp.select_dtypes(exclude=['int64', 'float64','datetime'])"
      ],
      "metadata": {
        "id": "k6im45yu7qFE"
      },
      "execution_count": 119,
      "outputs": []
    },
    {
      "cell_type": "markdown",
      "source": [
        "## 1.6.1 Numerical Attributes - Obesity"
      ],
      "metadata": {
        "id": "h6yP2cNz6tEt"
      }
    },
    {
      "cell_type": "code",
      "execution_count": 120,
      "metadata": {
        "id": "b6HGm856x8mS",
        "colab": {
          "base_uri": "https://localhost:8080/",
          "height": 125
        },
        "outputId": "f11e84ec-5cea-4226-dd1e-a49fb011694a"
      },
      "outputs": [
        {
          "output_type": "execute_result",
          "data": {
            "text/plain": [
              "  attributes     min     max  range         mean  median        std      skew  \\\n",
              "0       year  1975.0  2016.0   41.0  1995.500000  1995.5  12.120919  0.000000   \n",
              "1    obesity     0.1    63.3   63.2    12.448932     NaN  10.407212  1.315083   \n",
              "\n",
              "   kurtosis  \n",
              "0 -1.201362  \n",
              "1  2.320757  "
            ],
            "text/html": [
              "\n",
              "  <div id=\"df-54089366-c142-4e76-ba4c-537af5f7ac91\" class=\"colab-df-container\">\n",
              "    <div>\n",
              "<style scoped>\n",
              "    .dataframe tbody tr th:only-of-type {\n",
              "        vertical-align: middle;\n",
              "    }\n",
              "\n",
              "    .dataframe tbody tr th {\n",
              "        vertical-align: top;\n",
              "    }\n",
              "\n",
              "    .dataframe thead th {\n",
              "        text-align: right;\n",
              "    }\n",
              "</style>\n",
              "<table border=\"1\" class=\"dataframe\">\n",
              "  <thead>\n",
              "    <tr style=\"text-align: right;\">\n",
              "      <th></th>\n",
              "      <th>attributes</th>\n",
              "      <th>min</th>\n",
              "      <th>max</th>\n",
              "      <th>range</th>\n",
              "      <th>mean</th>\n",
              "      <th>median</th>\n",
              "      <th>std</th>\n",
              "      <th>skew</th>\n",
              "      <th>kurtosis</th>\n",
              "    </tr>\n",
              "  </thead>\n",
              "  <tbody>\n",
              "    <tr>\n",
              "      <th>0</th>\n",
              "      <td>year</td>\n",
              "      <td>1975.0</td>\n",
              "      <td>2016.0</td>\n",
              "      <td>41.0</td>\n",
              "      <td>1995.500000</td>\n",
              "      <td>1995.5</td>\n",
              "      <td>12.120919</td>\n",
              "      <td>0.000000</td>\n",
              "      <td>-1.201362</td>\n",
              "    </tr>\n",
              "    <tr>\n",
              "      <th>1</th>\n",
              "      <td>obesity</td>\n",
              "      <td>0.1</td>\n",
              "      <td>63.3</td>\n",
              "      <td>63.2</td>\n",
              "      <td>12.448932</td>\n",
              "      <td>NaN</td>\n",
              "      <td>10.407212</td>\n",
              "      <td>1.315083</td>\n",
              "      <td>2.320757</td>\n",
              "    </tr>\n",
              "  </tbody>\n",
              "</table>\n",
              "</div>\n",
              "    <div class=\"colab-df-buttons\">\n",
              "\n",
              "  <div class=\"colab-df-container\">\n",
              "    <button class=\"colab-df-convert\" onclick=\"convertToInteractive('df-54089366-c142-4e76-ba4c-537af5f7ac91')\"\n",
              "            title=\"Convert this dataframe to an interactive table.\"\n",
              "            style=\"display:none;\">\n",
              "\n",
              "  <svg xmlns=\"http://www.w3.org/2000/svg\" height=\"24px\" viewBox=\"0 -960 960 960\">\n",
              "    <path d=\"M120-120v-720h720v720H120Zm60-500h600v-160H180v160Zm220 220h160v-160H400v160Zm0 220h160v-160H400v160ZM180-400h160v-160H180v160Zm440 0h160v-160H620v160ZM180-180h160v-160H180v160Zm440 0h160v-160H620v160Z\"/>\n",
              "  </svg>\n",
              "    </button>\n",
              "\n",
              "  <style>\n",
              "    .colab-df-container {\n",
              "      display:flex;\n",
              "      gap: 12px;\n",
              "    }\n",
              "\n",
              "    .colab-df-convert {\n",
              "      background-color: #E8F0FE;\n",
              "      border: none;\n",
              "      border-radius: 50%;\n",
              "      cursor: pointer;\n",
              "      display: none;\n",
              "      fill: #1967D2;\n",
              "      height: 32px;\n",
              "      padding: 0 0 0 0;\n",
              "      width: 32px;\n",
              "    }\n",
              "\n",
              "    .colab-df-convert:hover {\n",
              "      background-color: #E2EBFA;\n",
              "      box-shadow: 0px 1px 2px rgba(60, 64, 67, 0.3), 0px 1px 3px 1px rgba(60, 64, 67, 0.15);\n",
              "      fill: #174EA6;\n",
              "    }\n",
              "\n",
              "    .colab-df-buttons div {\n",
              "      margin-bottom: 4px;\n",
              "    }\n",
              "\n",
              "    [theme=dark] .colab-df-convert {\n",
              "      background-color: #3B4455;\n",
              "      fill: #D2E3FC;\n",
              "    }\n",
              "\n",
              "    [theme=dark] .colab-df-convert:hover {\n",
              "      background-color: #434B5C;\n",
              "      box-shadow: 0px 1px 3px 1px rgba(0, 0, 0, 0.15);\n",
              "      filter: drop-shadow(0px 1px 2px rgba(0, 0, 0, 0.3));\n",
              "      fill: #FFFFFF;\n",
              "    }\n",
              "  </style>\n",
              "\n",
              "    <script>\n",
              "      const buttonEl =\n",
              "        document.querySelector('#df-54089366-c142-4e76-ba4c-537af5f7ac91 button.colab-df-convert');\n",
              "      buttonEl.style.display =\n",
              "        google.colab.kernel.accessAllowed ? 'block' : 'none';\n",
              "\n",
              "      async function convertToInteractive(key) {\n",
              "        const element = document.querySelector('#df-54089366-c142-4e76-ba4c-537af5f7ac91');\n",
              "        const dataTable =\n",
              "          await google.colab.kernel.invokeFunction('convertToInteractive',\n",
              "                                                    [key], {});\n",
              "        if (!dataTable) return;\n",
              "\n",
              "        const docLinkHtml = 'Like what you see? Visit the ' +\n",
              "          '<a target=\"_blank\" href=https://colab.research.google.com/notebooks/data_table.ipynb>data table notebook</a>'\n",
              "          + ' to learn more about interactive tables.';\n",
              "        element.innerHTML = '';\n",
              "        dataTable['output_type'] = 'display_data';\n",
              "        await google.colab.output.renderOutput(dataTable, element);\n",
              "        const docLink = document.createElement('div');\n",
              "        docLink.innerHTML = docLinkHtml;\n",
              "        element.appendChild(docLink);\n",
              "      }\n",
              "    </script>\n",
              "  </div>\n",
              "\n",
              "\n",
              "<div id=\"df-d79cace1-eb97-41a3-9512-7e30e9b707e7\">\n",
              "  <button class=\"colab-df-quickchart\" onclick=\"quickchart('df-d79cace1-eb97-41a3-9512-7e30e9b707e7')\"\n",
              "            title=\"Suggest charts\"\n",
              "            style=\"display:none;\">\n",
              "\n",
              "<svg xmlns=\"http://www.w3.org/2000/svg\" height=\"24px\"viewBox=\"0 0 24 24\"\n",
              "     width=\"24px\">\n",
              "    <g>\n",
              "        <path d=\"M19 3H5c-1.1 0-2 .9-2 2v14c0 1.1.9 2 2 2h14c1.1 0 2-.9 2-2V5c0-1.1-.9-2-2-2zM9 17H7v-7h2v7zm4 0h-2V7h2v10zm4 0h-2v-4h2v4z\"/>\n",
              "    </g>\n",
              "</svg>\n",
              "  </button>\n",
              "\n",
              "<style>\n",
              "  .colab-df-quickchart {\n",
              "      --bg-color: #E8F0FE;\n",
              "      --fill-color: #1967D2;\n",
              "      --hover-bg-color: #E2EBFA;\n",
              "      --hover-fill-color: #174EA6;\n",
              "      --disabled-fill-color: #AAA;\n",
              "      --disabled-bg-color: #DDD;\n",
              "  }\n",
              "\n",
              "  [theme=dark] .colab-df-quickchart {\n",
              "      --bg-color: #3B4455;\n",
              "      --fill-color: #D2E3FC;\n",
              "      --hover-bg-color: #434B5C;\n",
              "      --hover-fill-color: #FFFFFF;\n",
              "      --disabled-bg-color: #3B4455;\n",
              "      --disabled-fill-color: #666;\n",
              "  }\n",
              "\n",
              "  .colab-df-quickchart {\n",
              "    background-color: var(--bg-color);\n",
              "    border: none;\n",
              "    border-radius: 50%;\n",
              "    cursor: pointer;\n",
              "    display: none;\n",
              "    fill: var(--fill-color);\n",
              "    height: 32px;\n",
              "    padding: 0;\n",
              "    width: 32px;\n",
              "  }\n",
              "\n",
              "  .colab-df-quickchart:hover {\n",
              "    background-color: var(--hover-bg-color);\n",
              "    box-shadow: 0 1px 2px rgba(60, 64, 67, 0.3), 0 1px 3px 1px rgba(60, 64, 67, 0.15);\n",
              "    fill: var(--button-hover-fill-color);\n",
              "  }\n",
              "\n",
              "  .colab-df-quickchart-complete:disabled,\n",
              "  .colab-df-quickchart-complete:disabled:hover {\n",
              "    background-color: var(--disabled-bg-color);\n",
              "    fill: var(--disabled-fill-color);\n",
              "    box-shadow: none;\n",
              "  }\n",
              "\n",
              "  .colab-df-spinner {\n",
              "    border: 2px solid var(--fill-color);\n",
              "    border-color: transparent;\n",
              "    border-bottom-color: var(--fill-color);\n",
              "    animation:\n",
              "      spin 1s steps(1) infinite;\n",
              "  }\n",
              "\n",
              "  @keyframes spin {\n",
              "    0% {\n",
              "      border-color: transparent;\n",
              "      border-bottom-color: var(--fill-color);\n",
              "      border-left-color: var(--fill-color);\n",
              "    }\n",
              "    20% {\n",
              "      border-color: transparent;\n",
              "      border-left-color: var(--fill-color);\n",
              "      border-top-color: var(--fill-color);\n",
              "    }\n",
              "    30% {\n",
              "      border-color: transparent;\n",
              "      border-left-color: var(--fill-color);\n",
              "      border-top-color: var(--fill-color);\n",
              "      border-right-color: var(--fill-color);\n",
              "    }\n",
              "    40% {\n",
              "      border-color: transparent;\n",
              "      border-right-color: var(--fill-color);\n",
              "      border-top-color: var(--fill-color);\n",
              "    }\n",
              "    60% {\n",
              "      border-color: transparent;\n",
              "      border-right-color: var(--fill-color);\n",
              "    }\n",
              "    80% {\n",
              "      border-color: transparent;\n",
              "      border-right-color: var(--fill-color);\n",
              "      border-bottom-color: var(--fill-color);\n",
              "    }\n",
              "    90% {\n",
              "      border-color: transparent;\n",
              "      border-bottom-color: var(--fill-color);\n",
              "    }\n",
              "  }\n",
              "</style>\n",
              "\n",
              "  <script>\n",
              "    async function quickchart(key) {\n",
              "      const quickchartButtonEl =\n",
              "        document.querySelector('#' + key + ' button');\n",
              "      quickchartButtonEl.disabled = true;  // To prevent multiple clicks.\n",
              "      quickchartButtonEl.classList.add('colab-df-spinner');\n",
              "      try {\n",
              "        const charts = await google.colab.kernel.invokeFunction(\n",
              "            'suggestCharts', [key], {});\n",
              "      } catch (error) {\n",
              "        console.error('Error during call to suggestCharts:', error);\n",
              "      }\n",
              "      quickchartButtonEl.classList.remove('colab-df-spinner');\n",
              "      quickchartButtonEl.classList.add('colab-df-quickchart-complete');\n",
              "    }\n",
              "    (() => {\n",
              "      let quickchartButtonEl =\n",
              "        document.querySelector('#df-d79cace1-eb97-41a3-9512-7e30e9b707e7 button');\n",
              "      quickchartButtonEl.style.display =\n",
              "        google.colab.kernel.accessAllowed ? 'block' : 'none';\n",
              "    })();\n",
              "  </script>\n",
              "</div>\n",
              "\n",
              "  <div id=\"id_2651d5bc-1185-446a-affc-3b35445ae7b3\">\n",
              "    <style>\n",
              "      .colab-df-generate {\n",
              "        background-color: #E8F0FE;\n",
              "        border: none;\n",
              "        border-radius: 50%;\n",
              "        cursor: pointer;\n",
              "        display: none;\n",
              "        fill: #1967D2;\n",
              "        height: 32px;\n",
              "        padding: 0 0 0 0;\n",
              "        width: 32px;\n",
              "      }\n",
              "\n",
              "      .colab-df-generate:hover {\n",
              "        background-color: #E2EBFA;\n",
              "        box-shadow: 0px 1px 2px rgba(60, 64, 67, 0.3), 0px 1px 3px 1px rgba(60, 64, 67, 0.15);\n",
              "        fill: #174EA6;\n",
              "      }\n",
              "\n",
              "      [theme=dark] .colab-df-generate {\n",
              "        background-color: #3B4455;\n",
              "        fill: #D2E3FC;\n",
              "      }\n",
              "\n",
              "      [theme=dark] .colab-df-generate:hover {\n",
              "        background-color: #434B5C;\n",
              "        box-shadow: 0px 1px 3px 1px rgba(0, 0, 0, 0.15);\n",
              "        filter: drop-shadow(0px 1px 2px rgba(0, 0, 0, 0.3));\n",
              "        fill: #FFFFFF;\n",
              "      }\n",
              "    </style>\n",
              "    <button class=\"colab-df-generate\" onclick=\"generateWithVariable('m')\"\n",
              "            title=\"Generate code using this dataframe.\"\n",
              "            style=\"display:none;\">\n",
              "\n",
              "  <svg xmlns=\"http://www.w3.org/2000/svg\" height=\"24px\"viewBox=\"0 0 24 24\"\n",
              "       width=\"24px\">\n",
              "    <path d=\"M7,19H8.4L18.45,9,17,7.55,7,17.6ZM5,21V16.75L18.45,3.32a2,2,0,0,1,2.83,0l1.4,1.43a1.91,1.91,0,0,1,.58,1.4,1.91,1.91,0,0,1-.58,1.4L9.25,21ZM18.45,9,17,7.55Zm-12,3A5.31,5.31,0,0,0,4.9,8.1,5.31,5.31,0,0,0,1,6.5,5.31,5.31,0,0,0,4.9,4.9,5.31,5.31,0,0,0,6.5,1,5.31,5.31,0,0,0,8.1,4.9,5.31,5.31,0,0,0,12,6.5,5.46,5.46,0,0,0,6.5,12Z\"/>\n",
              "  </svg>\n",
              "    </button>\n",
              "    <script>\n",
              "      (() => {\n",
              "      const buttonEl =\n",
              "        document.querySelector('#id_2651d5bc-1185-446a-affc-3b35445ae7b3 button.colab-df-generate');\n",
              "      buttonEl.style.display =\n",
              "        google.colab.kernel.accessAllowed ? 'block' : 'none';\n",
              "\n",
              "      buttonEl.onclick = () => {\n",
              "        google.colab.notebook.generateWithVariable('m');\n",
              "      }\n",
              "      })();\n",
              "    </script>\n",
              "  </div>\n",
              "\n",
              "    </div>\n",
              "  </div>\n"
            ],
            "application/vnd.google.colaboratory.intrinsic+json": {
              "type": "dataframe",
              "variable_name": "m",
              "summary": "{\n  \"name\": \"m\",\n  \"rows\": 2,\n  \"fields\": [\n    {\n      \"column\": \"attributes\",\n      \"properties\": {\n        \"dtype\": \"string\",\n        \"num_unique_values\": 2,\n        \"samples\": [\n          \"obesity\",\n          \"year\"\n        ],\n        \"semantic_type\": \"\",\n        \"description\": \"\"\n      }\n    },\n    {\n      \"column\": \"min\",\n      \"properties\": {\n        \"dtype\": \"number\",\n        \"std\": 1396.4651821653126,\n        \"min\": 0.1,\n        \"max\": 1975.0,\n        \"num_unique_values\": 2,\n        \"samples\": [\n          0.1,\n          1975.0\n        ],\n        \"semantic_type\": \"\",\n        \"description\": \"\"\n      }\n    },\n    {\n      \"column\": \"max\",\n      \"properties\": {\n        \"dtype\": \"number\",\n        \"std\": 1380.7674116229714,\n        \"min\": 63.3,\n        \"max\": 2016.0,\n        \"num_unique_values\": 2,\n        \"samples\": [\n          63.3,\n          2016.0\n        ],\n        \"semantic_type\": \"\",\n        \"description\": \"\"\n      }\n    },\n    {\n      \"column\": \"range\",\n      \"properties\": {\n        \"dtype\": \"number\",\n        \"std\": 15.697770542341352,\n        \"min\": 41.0,\n        \"max\": 63.199999999999996,\n        \"num_unique_values\": 2,\n        \"samples\": [\n          63.199999999999996,\n          41.0\n        ],\n        \"semantic_type\": \"\",\n        \"description\": \"\"\n      }\n    },\n    {\n      \"column\": \"mean\",\n      \"properties\": {\n        \"dtype\": \"number\",\n        \"std\": 1402.228857548923,\n        \"min\": 12.448932103382365,\n        \"max\": 1995.5,\n        \"num_unique_values\": 2,\n        \"samples\": [\n          12.448932103382365,\n          1995.5\n        ],\n        \"semantic_type\": \"\",\n        \"description\": \"\"\n      }\n    },\n    {\n      \"column\": \"median\",\n      \"properties\": {\n        \"dtype\": \"number\",\n        \"std\": null,\n        \"min\": 1995.5,\n        \"max\": 1995.5,\n        \"num_unique_values\": 1,\n        \"samples\": [\n          1995.5\n        ],\n        \"semantic_type\": \"\",\n        \"description\": \"\"\n      }\n    },\n    {\n      \"column\": \"std\",\n      \"properties\": {\n        \"dtype\": \"number\",\n        \"std\": 1.2117735348262708,\n        \"min\": 10.40721198957504,\n        \"max\": 12.120918557051139,\n        \"num_unique_values\": 2,\n        \"samples\": [\n          10.40721198957504\n        ],\n        \"semantic_type\": \"\",\n        \"description\": \"\"\n      }\n    },\n    {\n      \"column\": \"skew\",\n      \"properties\": {\n        \"dtype\": \"number\",\n        \"std\": 0.9299044118878121,\n        \"min\": 0.0,\n        \"max\": 1.3150834310023207,\n        \"num_unique_values\": 2,\n        \"samples\": [\n          1.3150834310023207\n        ],\n        \"semantic_type\": \"\",\n        \"description\": \"\"\n      }\n    },\n    {\n      \"column\": \"kurtosis\",\n      \"properties\": {\n        \"dtype\": \"number\",\n        \"std\": 2.4905142077878435,\n        \"min\": -1.2013615890310136,\n        \"max\": 2.320757380905439,\n        \"num_unique_values\": 2,\n        \"samples\": [\n          2.320757380905439\n        ],\n        \"semantic_type\": \"\",\n        \"description\": \"\"\n      }\n    }\n  ]\n}"
            }
          },
          "metadata": {},
          "execution_count": 120
        }
      ],
      "source": [
        "# Central Tendences - mean, median\n",
        "ct1 = pd.DataFrame(num_attributes_ob.apply(np.mean)).T\n",
        "ct2 = pd.DataFrame(num_attributes_ob.apply(np.median)).T\n",
        "\n",
        "# Dispersion - std, min, max, range, skew\n",
        "d1 = pd.DataFrame(num_attributes_ob.apply(np.std)).T\n",
        "d2 = pd.DataFrame(num_attributes_ob.apply(min)).T\n",
        "d3 = pd.DataFrame(num_attributes_ob.apply(max)).T\n",
        "d4 = pd.DataFrame(num_attributes_ob.apply(lambda x: x.max() - x.min())).T\n",
        "d5 = pd.DataFrame(num_attributes_ob.apply(lambda x: x.skew())).T\n",
        "d6 = pd.DataFrame(num_attributes_ob.apply(lambda x: x.kurtosis())).T\n",
        "\n",
        "# Concatenate\n",
        "m = pd.concat([d2, d3, d4, ct1, ct2, d1, d5, d6]).T.reset_index()\n",
        "\n",
        "# Name Columns\n",
        "m.columns = ['attributes', 'min', 'max', 'range', 'mean', 'median', 'std', 'skew', 'kurtosis']\n",
        "m"
      ]
    },
    {
      "cell_type": "markdown",
      "source": [
        "### 1.6.2 Numerical Attributes - GDP"
      ],
      "metadata": {
        "id": "lqjn8ZFQ8JUj"
      }
    },
    {
      "cell_type": "code",
      "source": [
        "# Central Tendences - mean, median\n",
        "ct1 = pd.DataFrame(num_attributes_gdp.apply(np.mean)).T\n",
        "ct2 = pd.DataFrame(num_attributes_gdp.apply(np.median)).T\n",
        "\n",
        "# Dispersion - std, min, max, range, skew\n",
        "d1 = pd.DataFrame(num_attributes_gdp.apply(np.std)).T\n",
        "d2 = pd.DataFrame(num_attributes_gdp.apply(min)).T\n",
        "d3 = pd.DataFrame(num_attributes_gdp.apply(max)).T\n",
        "d4 = pd.DataFrame(num_attributes_gdp.apply(lambda x: x.max() - x.min())).T\n",
        "d5 = pd.DataFrame(num_attributes_gdp.apply(lambda x: x.skew())).T\n",
        "d6 = pd.DataFrame(num_attributes_gdp.apply(lambda x: x.kurtosis())).T\n",
        "\n",
        "# Concatenate\n",
        "m = pd.concat([d2, d3, d4, ct1, ct2, d1, d5, d6]).T.reset_index()\n",
        "\n",
        "# Name Columns\n",
        "m.columns = ['attributes', 'min', 'max', 'range', 'mean', 'median', 'std', 'skew', 'kurtosis']\n",
        "m"
      ],
      "metadata": {
        "colab": {
          "base_uri": "https://localhost:8080/",
          "height": 125
        },
        "id": "QHfWjhal8Csb",
        "outputId": "06911f69-df87-407a-9f8b-38c0af3bb83f"
      },
      "execution_count": 121,
      "outputs": [
        {
          "output_type": "execute_result",
          "data": {
            "text/plain": [
              "  attributes      min       max      range         mean   median          std  \\\n",
              "0       year  1901.00    2011.0     110.00  1956.027155  1956.00    33.171524   \n",
              "1     gdp_pp   285.15  118681.3  118396.15  5551.033745  2201.46  9299.023884   \n",
              "\n",
              "       skew   kurtosis  \n",
              "0 -0.001229  -1.205386  \n",
              "1  4.419401  29.430225  "
            ],
            "text/html": [
              "\n",
              "  <div id=\"df-4d36ad50-f5a2-43a0-bc84-9bd2315eabcb\" class=\"colab-df-container\">\n",
              "    <div>\n",
              "<style scoped>\n",
              "    .dataframe tbody tr th:only-of-type {\n",
              "        vertical-align: middle;\n",
              "    }\n",
              "\n",
              "    .dataframe tbody tr th {\n",
              "        vertical-align: top;\n",
              "    }\n",
              "\n",
              "    .dataframe thead th {\n",
              "        text-align: right;\n",
              "    }\n",
              "</style>\n",
              "<table border=\"1\" class=\"dataframe\">\n",
              "  <thead>\n",
              "    <tr style=\"text-align: right;\">\n",
              "      <th></th>\n",
              "      <th>attributes</th>\n",
              "      <th>min</th>\n",
              "      <th>max</th>\n",
              "      <th>range</th>\n",
              "      <th>mean</th>\n",
              "      <th>median</th>\n",
              "      <th>std</th>\n",
              "      <th>skew</th>\n",
              "      <th>kurtosis</th>\n",
              "    </tr>\n",
              "  </thead>\n",
              "  <tbody>\n",
              "    <tr>\n",
              "      <th>0</th>\n",
              "      <td>year</td>\n",
              "      <td>1901.00</td>\n",
              "      <td>2011.0</td>\n",
              "      <td>110.00</td>\n",
              "      <td>1956.027155</td>\n",
              "      <td>1956.00</td>\n",
              "      <td>33.171524</td>\n",
              "      <td>-0.001229</td>\n",
              "      <td>-1.205386</td>\n",
              "    </tr>\n",
              "    <tr>\n",
              "      <th>1</th>\n",
              "      <td>gdp_pp</td>\n",
              "      <td>285.15</td>\n",
              "      <td>118681.3</td>\n",
              "      <td>118396.15</td>\n",
              "      <td>5551.033745</td>\n",
              "      <td>2201.46</td>\n",
              "      <td>9299.023884</td>\n",
              "      <td>4.419401</td>\n",
              "      <td>29.430225</td>\n",
              "    </tr>\n",
              "  </tbody>\n",
              "</table>\n",
              "</div>\n",
              "    <div class=\"colab-df-buttons\">\n",
              "\n",
              "  <div class=\"colab-df-container\">\n",
              "    <button class=\"colab-df-convert\" onclick=\"convertToInteractive('df-4d36ad50-f5a2-43a0-bc84-9bd2315eabcb')\"\n",
              "            title=\"Convert this dataframe to an interactive table.\"\n",
              "            style=\"display:none;\">\n",
              "\n",
              "  <svg xmlns=\"http://www.w3.org/2000/svg\" height=\"24px\" viewBox=\"0 -960 960 960\">\n",
              "    <path d=\"M120-120v-720h720v720H120Zm60-500h600v-160H180v160Zm220 220h160v-160H400v160Zm0 220h160v-160H400v160ZM180-400h160v-160H180v160Zm440 0h160v-160H620v160ZM180-180h160v-160H180v160Zm440 0h160v-160H620v160Z\"/>\n",
              "  </svg>\n",
              "    </button>\n",
              "\n",
              "  <style>\n",
              "    .colab-df-container {\n",
              "      display:flex;\n",
              "      gap: 12px;\n",
              "    }\n",
              "\n",
              "    .colab-df-convert {\n",
              "      background-color: #E8F0FE;\n",
              "      border: none;\n",
              "      border-radius: 50%;\n",
              "      cursor: pointer;\n",
              "      display: none;\n",
              "      fill: #1967D2;\n",
              "      height: 32px;\n",
              "      padding: 0 0 0 0;\n",
              "      width: 32px;\n",
              "    }\n",
              "\n",
              "    .colab-df-convert:hover {\n",
              "      background-color: #E2EBFA;\n",
              "      box-shadow: 0px 1px 2px rgba(60, 64, 67, 0.3), 0px 1px 3px 1px rgba(60, 64, 67, 0.15);\n",
              "      fill: #174EA6;\n",
              "    }\n",
              "\n",
              "    .colab-df-buttons div {\n",
              "      margin-bottom: 4px;\n",
              "    }\n",
              "\n",
              "    [theme=dark] .colab-df-convert {\n",
              "      background-color: #3B4455;\n",
              "      fill: #D2E3FC;\n",
              "    }\n",
              "\n",
              "    [theme=dark] .colab-df-convert:hover {\n",
              "      background-color: #434B5C;\n",
              "      box-shadow: 0px 1px 3px 1px rgba(0, 0, 0, 0.15);\n",
              "      filter: drop-shadow(0px 1px 2px rgba(0, 0, 0, 0.3));\n",
              "      fill: #FFFFFF;\n",
              "    }\n",
              "  </style>\n",
              "\n",
              "    <script>\n",
              "      const buttonEl =\n",
              "        document.querySelector('#df-4d36ad50-f5a2-43a0-bc84-9bd2315eabcb button.colab-df-convert');\n",
              "      buttonEl.style.display =\n",
              "        google.colab.kernel.accessAllowed ? 'block' : 'none';\n",
              "\n",
              "      async function convertToInteractive(key) {\n",
              "        const element = document.querySelector('#df-4d36ad50-f5a2-43a0-bc84-9bd2315eabcb');\n",
              "        const dataTable =\n",
              "          await google.colab.kernel.invokeFunction('convertToInteractive',\n",
              "                                                    [key], {});\n",
              "        if (!dataTable) return;\n",
              "\n",
              "        const docLinkHtml = 'Like what you see? Visit the ' +\n",
              "          '<a target=\"_blank\" href=https://colab.research.google.com/notebooks/data_table.ipynb>data table notebook</a>'\n",
              "          + ' to learn more about interactive tables.';\n",
              "        element.innerHTML = '';\n",
              "        dataTable['output_type'] = 'display_data';\n",
              "        await google.colab.output.renderOutput(dataTable, element);\n",
              "        const docLink = document.createElement('div');\n",
              "        docLink.innerHTML = docLinkHtml;\n",
              "        element.appendChild(docLink);\n",
              "      }\n",
              "    </script>\n",
              "  </div>\n",
              "\n",
              "\n",
              "<div id=\"df-8a6da12d-b4cc-4f29-9d8b-9460fdb038c1\">\n",
              "  <button class=\"colab-df-quickchart\" onclick=\"quickchart('df-8a6da12d-b4cc-4f29-9d8b-9460fdb038c1')\"\n",
              "            title=\"Suggest charts\"\n",
              "            style=\"display:none;\">\n",
              "\n",
              "<svg xmlns=\"http://www.w3.org/2000/svg\" height=\"24px\"viewBox=\"0 0 24 24\"\n",
              "     width=\"24px\">\n",
              "    <g>\n",
              "        <path d=\"M19 3H5c-1.1 0-2 .9-2 2v14c0 1.1.9 2 2 2h14c1.1 0 2-.9 2-2V5c0-1.1-.9-2-2-2zM9 17H7v-7h2v7zm4 0h-2V7h2v10zm4 0h-2v-4h2v4z\"/>\n",
              "    </g>\n",
              "</svg>\n",
              "  </button>\n",
              "\n",
              "<style>\n",
              "  .colab-df-quickchart {\n",
              "      --bg-color: #E8F0FE;\n",
              "      --fill-color: #1967D2;\n",
              "      --hover-bg-color: #E2EBFA;\n",
              "      --hover-fill-color: #174EA6;\n",
              "      --disabled-fill-color: #AAA;\n",
              "      --disabled-bg-color: #DDD;\n",
              "  }\n",
              "\n",
              "  [theme=dark] .colab-df-quickchart {\n",
              "      --bg-color: #3B4455;\n",
              "      --fill-color: #D2E3FC;\n",
              "      --hover-bg-color: #434B5C;\n",
              "      --hover-fill-color: #FFFFFF;\n",
              "      --disabled-bg-color: #3B4455;\n",
              "      --disabled-fill-color: #666;\n",
              "  }\n",
              "\n",
              "  .colab-df-quickchart {\n",
              "    background-color: var(--bg-color);\n",
              "    border: none;\n",
              "    border-radius: 50%;\n",
              "    cursor: pointer;\n",
              "    display: none;\n",
              "    fill: var(--fill-color);\n",
              "    height: 32px;\n",
              "    padding: 0;\n",
              "    width: 32px;\n",
              "  }\n",
              "\n",
              "  .colab-df-quickchart:hover {\n",
              "    background-color: var(--hover-bg-color);\n",
              "    box-shadow: 0 1px 2px rgba(60, 64, 67, 0.3), 0 1px 3px 1px rgba(60, 64, 67, 0.15);\n",
              "    fill: var(--button-hover-fill-color);\n",
              "  }\n",
              "\n",
              "  .colab-df-quickchart-complete:disabled,\n",
              "  .colab-df-quickchart-complete:disabled:hover {\n",
              "    background-color: var(--disabled-bg-color);\n",
              "    fill: var(--disabled-fill-color);\n",
              "    box-shadow: none;\n",
              "  }\n",
              "\n",
              "  .colab-df-spinner {\n",
              "    border: 2px solid var(--fill-color);\n",
              "    border-color: transparent;\n",
              "    border-bottom-color: var(--fill-color);\n",
              "    animation:\n",
              "      spin 1s steps(1) infinite;\n",
              "  }\n",
              "\n",
              "  @keyframes spin {\n",
              "    0% {\n",
              "      border-color: transparent;\n",
              "      border-bottom-color: var(--fill-color);\n",
              "      border-left-color: var(--fill-color);\n",
              "    }\n",
              "    20% {\n",
              "      border-color: transparent;\n",
              "      border-left-color: var(--fill-color);\n",
              "      border-top-color: var(--fill-color);\n",
              "    }\n",
              "    30% {\n",
              "      border-color: transparent;\n",
              "      border-left-color: var(--fill-color);\n",
              "      border-top-color: var(--fill-color);\n",
              "      border-right-color: var(--fill-color);\n",
              "    }\n",
              "    40% {\n",
              "      border-color: transparent;\n",
              "      border-right-color: var(--fill-color);\n",
              "      border-top-color: var(--fill-color);\n",
              "    }\n",
              "    60% {\n",
              "      border-color: transparent;\n",
              "      border-right-color: var(--fill-color);\n",
              "    }\n",
              "    80% {\n",
              "      border-color: transparent;\n",
              "      border-right-color: var(--fill-color);\n",
              "      border-bottom-color: var(--fill-color);\n",
              "    }\n",
              "    90% {\n",
              "      border-color: transparent;\n",
              "      border-bottom-color: var(--fill-color);\n",
              "    }\n",
              "  }\n",
              "</style>\n",
              "\n",
              "  <script>\n",
              "    async function quickchart(key) {\n",
              "      const quickchartButtonEl =\n",
              "        document.querySelector('#' + key + ' button');\n",
              "      quickchartButtonEl.disabled = true;  // To prevent multiple clicks.\n",
              "      quickchartButtonEl.classList.add('colab-df-spinner');\n",
              "      try {\n",
              "        const charts = await google.colab.kernel.invokeFunction(\n",
              "            'suggestCharts', [key], {});\n",
              "      } catch (error) {\n",
              "        console.error('Error during call to suggestCharts:', error);\n",
              "      }\n",
              "      quickchartButtonEl.classList.remove('colab-df-spinner');\n",
              "      quickchartButtonEl.classList.add('colab-df-quickchart-complete');\n",
              "    }\n",
              "    (() => {\n",
              "      let quickchartButtonEl =\n",
              "        document.querySelector('#df-8a6da12d-b4cc-4f29-9d8b-9460fdb038c1 button');\n",
              "      quickchartButtonEl.style.display =\n",
              "        google.colab.kernel.accessAllowed ? 'block' : 'none';\n",
              "    })();\n",
              "  </script>\n",
              "</div>\n",
              "\n",
              "  <div id=\"id_4663259d-4f1f-4634-9f7c-fdb77c612803\">\n",
              "    <style>\n",
              "      .colab-df-generate {\n",
              "        background-color: #E8F0FE;\n",
              "        border: none;\n",
              "        border-radius: 50%;\n",
              "        cursor: pointer;\n",
              "        display: none;\n",
              "        fill: #1967D2;\n",
              "        height: 32px;\n",
              "        padding: 0 0 0 0;\n",
              "        width: 32px;\n",
              "      }\n",
              "\n",
              "      .colab-df-generate:hover {\n",
              "        background-color: #E2EBFA;\n",
              "        box-shadow: 0px 1px 2px rgba(60, 64, 67, 0.3), 0px 1px 3px 1px rgba(60, 64, 67, 0.15);\n",
              "        fill: #174EA6;\n",
              "      }\n",
              "\n",
              "      [theme=dark] .colab-df-generate {\n",
              "        background-color: #3B4455;\n",
              "        fill: #D2E3FC;\n",
              "      }\n",
              "\n",
              "      [theme=dark] .colab-df-generate:hover {\n",
              "        background-color: #434B5C;\n",
              "        box-shadow: 0px 1px 3px 1px rgba(0, 0, 0, 0.15);\n",
              "        filter: drop-shadow(0px 1px 2px rgba(0, 0, 0, 0.3));\n",
              "        fill: #FFFFFF;\n",
              "      }\n",
              "    </style>\n",
              "    <button class=\"colab-df-generate\" onclick=\"generateWithVariable('m')\"\n",
              "            title=\"Generate code using this dataframe.\"\n",
              "            style=\"display:none;\">\n",
              "\n",
              "  <svg xmlns=\"http://www.w3.org/2000/svg\" height=\"24px\"viewBox=\"0 0 24 24\"\n",
              "       width=\"24px\">\n",
              "    <path d=\"M7,19H8.4L18.45,9,17,7.55,7,17.6ZM5,21V16.75L18.45,3.32a2,2,0,0,1,2.83,0l1.4,1.43a1.91,1.91,0,0,1,.58,1.4,1.91,1.91,0,0,1-.58,1.4L9.25,21ZM18.45,9,17,7.55Zm-12,3A5.31,5.31,0,0,0,4.9,8.1,5.31,5.31,0,0,0,1,6.5,5.31,5.31,0,0,0,4.9,4.9,5.31,5.31,0,0,0,6.5,1,5.31,5.31,0,0,0,8.1,4.9,5.31,5.31,0,0,0,12,6.5,5.46,5.46,0,0,0,6.5,12Z\"/>\n",
              "  </svg>\n",
              "    </button>\n",
              "    <script>\n",
              "      (() => {\n",
              "      const buttonEl =\n",
              "        document.querySelector('#id_4663259d-4f1f-4634-9f7c-fdb77c612803 button.colab-df-generate');\n",
              "      buttonEl.style.display =\n",
              "        google.colab.kernel.accessAllowed ? 'block' : 'none';\n",
              "\n",
              "      buttonEl.onclick = () => {\n",
              "        google.colab.notebook.generateWithVariable('m');\n",
              "      }\n",
              "      })();\n",
              "    </script>\n",
              "  </div>\n",
              "\n",
              "    </div>\n",
              "  </div>\n"
            ],
            "application/vnd.google.colaboratory.intrinsic+json": {
              "type": "dataframe",
              "variable_name": "m",
              "summary": "{\n  \"name\": \"m\",\n  \"rows\": 2,\n  \"fields\": [\n    {\n      \"column\": \"attributes\",\n      \"properties\": {\n        \"dtype\": \"string\",\n        \"num_unique_values\": 2,\n        \"samples\": [\n          \"gdp_pp\",\n          \"year\"\n        ],\n        \"semantic_type\": \"\",\n        \"description\": \"\"\n      }\n    },\n    {\n      \"column\": \"min\",\n      \"properties\": {\n        \"dtype\": \"number\",\n        \"std\": 1142.5784923802828,\n        \"min\": 285.15,\n        \"max\": 1901.0,\n        \"num_unique_values\": 2,\n        \"samples\": [\n          285.15,\n          1901.0\n        ],\n        \"semantic_type\": \"\",\n        \"description\": \"\"\n      }\n    },\n    {\n      \"column\": \"max\",\n      \"properties\": {\n        \"dtype\": \"number\",\n        \"std\": 82498.36029306885,\n        \"min\": 2011.0,\n        \"max\": 118681.3,\n        \"num_unique_values\": 2,\n        \"samples\": [\n          118681.3,\n          2011.0\n        ],\n        \"semantic_type\": \"\",\n        \"description\": \"\"\n      }\n    },\n    {\n      \"column\": \"range\",\n      \"properties\": {\n        \"dtype\": \"number\",\n        \"std\": 83640.93878544915,\n        \"min\": 110.0,\n        \"max\": 118396.15000000001,\n        \"num_unique_values\": 2,\n        \"samples\": [\n          118396.15000000001,\n          110.0\n        ],\n        \"semantic_type\": \"\",\n        \"description\": \"\"\n      }\n    },\n    {\n      \"column\": \"mean\",\n      \"properties\": {\n        \"dtype\": \"number\",\n        \"std\": 2542.0535380057077,\n        \"min\": 1956.0271554650374,\n        \"max\": 5551.033745191219,\n        \"num_unique_values\": 2,\n        \"samples\": [\n          5551.033745191219,\n          1956.0271554650374\n        ],\n        \"semantic_type\": \"\",\n        \"description\": \"\"\n      }\n    },\n    {\n      \"column\": \"median\",\n      \"properties\": {\n        \"dtype\": \"number\",\n        \"std\": 173.56643051004997,\n        \"min\": 1956.0,\n        \"max\": 2201.46,\n        \"num_unique_values\": 2,\n        \"samples\": [\n          2201.46,\n          1956.0\n        ],\n        \"semantic_type\": \"\",\n        \"description\": \"\"\n      }\n    },\n    {\n      \"column\": \"std\",\n      \"properties\": {\n        \"dtype\": \"number\",\n        \"std\": 6551.947037150283,\n        \"min\": 33.171524244007514,\n        \"max\": 9299.023884132155,\n        \"num_unique_values\": 2,\n        \"samples\": [\n          9299.023884132155,\n          33.171524244007514\n        ],\n        \"semantic_type\": \"\",\n        \"description\": \"\"\n      }\n    },\n    {\n      \"column\": \"skew\",\n      \"properties\": {\n        \"dtype\": \"number\",\n        \"std\": 3.125857066883717,\n        \"min\": -0.0012287650599922687,\n        \"max\": 4.419400692966743,\n        \"num_unique_values\": 2,\n        \"samples\": [\n          4.419400692966743,\n          -0.0012287650599922687\n        ],\n        \"semantic_type\": \"\",\n        \"description\": \"\"\n      }\n    },\n    {\n      \"column\": \"kurtosis\",\n      \"properties\": {\n        \"dtype\": \"number\",\n        \"std\": 21.662648325477385,\n        \"min\": -1.2053862868089629,\n        \"max\": 29.43022477199997,\n        \"num_unique_values\": 2,\n        \"samples\": [\n          29.43022477199997,\n          -1.2053862868089629\n        ],\n        \"semantic_type\": \"\",\n        \"description\": \"\"\n      }\n    }\n  ]\n}"
            }
          },
          "metadata": {},
          "execution_count": 121
        }
      ]
    },
    {
      "cell_type": "code",
      "source": [
        "plt.figure(figsize=(10, 6))\n",
        "\n",
        "plt.subplot(1, 2, 1)\n",
        "sns.histplot(df1_ob['obesity'])\n",
        "\n",
        "plt.subplot(1, 2, 2)\n",
        "sns.histplot(df1_gdp['gdp_pp'])"
      ],
      "metadata": {
        "colab": {
          "base_uri": "https://localhost:8080/",
          "height": 559
        },
        "id": "W8ysLx1o71tN",
        "outputId": "8ddc3e64-cffa-43ad-a1ca-a71b18510344"
      },
      "execution_count": 122,
      "outputs": [
        {
          "output_type": "execute_result",
          "data": {
            "text/plain": [
              "<Axes: xlabel='gdp_pp', ylabel='Count'>"
            ]
          },
          "metadata": {},
          "execution_count": 122
        },
        {
          "output_type": "display_data",
          "data": {
            "text/plain": [
              "<Figure size 1000x600 with 2 Axes>"
            ],
            "image/png": "[encoded data removed]"
          },
          "metadata": {}
        }
      ]
    },
    {
      "cell_type": "markdown",
      "source": [
        "## 1.6.3 Categorical Attributes"
      ],
      "metadata": {
        "id": "SrFhc6p37Vcc"
      }
    },
    {
      "cell_type": "code",
      "source": [
        "# check categorical attributes - obesity\n",
        "\n",
        "cat_attributes_ob.apply(lambda x: x.unique().shape[0])\n",
        "print(cat_attributes_ob.apply(lambda x: x.unique().shape[0]))\n",
        "\n",
        "print('---------------------')\n",
        "# check categorical attributes - gdp\n",
        "\n",
        "cat_attributes_gdp.apply(lambda x: x.unique().shape[0])\n",
        "print(cat_attributes_gdp.apply(lambda x: x.unique().shape[0]))"
      ],
      "metadata": {
        "colab": {
          "base_uri": "https://localhost:8080/"
        },
        "id": "iKhdpd217Y0M",
        "outputId": "84b4dd41-3ca4-4475-c7ae-0a36c4485f73"
      },
      "execution_count": 123,
      "outputs": [
        {
          "output_type": "stream",
          "name": "stdout",
          "text": [
            "country    195\n",
            "sex          3\n",
            "dtype: int64\n",
            "---------------------\n",
            "country    193\n",
            "region       8\n",
            "dtype: int64\n"
          ]
        }
      ]
    },
    {
      "cell_type": "code",
      "source": [
        "plt.figure(figsize=(10, 6))\n",
        "\n",
        "plt.subplot(1, 2, 1)\n",
        "sns.boxplot(x='sex', y='obesity', data=df1_ob, hue='sex', legend=False)\n",
        "plt.title('Obesity by Sex')\n",
        "plt.xlabel('Sex')\n",
        "plt.ylabel('Obesity')\n",
        "\n",
        "\n",
        "plt.subplot(1, 2, 2)\n",
        "sns.boxplot(x='region', y='gdp_pp', data=df1_gdp, hue='region', legend=False)\n",
        "plt.title('GDP by Region')\n",
        "plt.xlabel('Region')\n",
        "plt.xticks(rotation=90)\n",
        "plt.ylabel('GDP')\n",
        "plt.ylim(0, 60000)\n",
        "\n",
        "plt.subplots_adjust(wspace=0.5)\n",
        "\n",
        "plt.show()"
      ],
      "metadata": {
        "colab": {
          "base_uri": "https://localhost:8080/",
          "height": 864
        },
        "id": "lxo_IiSi8va3",
        "outputId": "fd08a227-1f9b-4cd1-9cfe-2b49da398783"
      },
      "execution_count": 124,
      "outputs": [
        {
          "output_type": "display_data",
          "data": {
            "text/plain": [
              "<Figure size 1000x600 with 2 Axes>"
            ],
            "image/png": "[encoded data removed]"
          },
          "metadata": {}
        }
      ]
    },
    {
      "cell_type": "markdown",
      "source": [
        "# 2.0 FEATURE ENGINEERING"
      ],
      "metadata": {
        "id": "lhvOd_d0_6W_"
      }
    },
    {
      "cell_type": "code",
      "source": [
        "df2_ob = df1_ob.copy()\n",
        "df2_gdp = df1_gdp.copy()"
      ],
      "metadata": {
        "id": "duRQbP8T-vRa"
      },
      "execution_count": 125,
      "outputs": []
    },
    {
      "cell_type": "markdown",
      "source": [
        "## 2.1 Questions - Obesity\n",
        "\n"
      ],
      "metadata": {
        "id": "qclyAn-VtsQU"
      }
    },
    {
      "cell_type": "markdown",
      "source": [
        "1. Qual o percentual médio de obesidade por sexo no mundo, no ano de 2015 ?\n",
        "2. Quais são os 5 países com maior e menor taxa de aumento nos índices de obesidade no período observado ?\n",
        "3. Quais os países com maiores e menores níveis percentuais de obesidade em 2015 ?\n",
        "4. Qual a diferença média percentual de obesidade entre os sexos ao longo dos anos para o Brasil ?\n",
        "5. Plote um grafico sobre a evolução da obesidade de ambos os sexos no mundo."
      ],
      "metadata": {
        "id": "Qrlj5fsJJOmY"
      }
    },
    {
      "cell_type": "markdown",
      "source": [
        "## 2.2 Questions - GDP"
      ],
      "metadata": {
        "id": "BC23bb9PAZ9_"
      }
    },
    {
      "cell_type": "markdown",
      "source": [
        "1. Qual o primeiro valor registrado para cada país ?\n",
        "2. Quais são as Regiões com os maiores crescimento de PIB per capta no Século Passado?\n",
        "3. Preencha os anos ausentes em cada país com uma estimativa baseada na diferença entre o próximo registro e o anterior"
      ],
      "metadata": {
        "id": "buUmezdbBLW8"
      }
    },
    {
      "cell_type": "markdown",
      "source": [
        "## 2.3 Hipoteses"
      ],
      "metadata": {
        "id": "suDVqzKFpfot"
      }
    },
    {
      "cell_type": "markdown",
      "source": [
        "1. Países com maior PIB têm maior taxa de obesidade?\n",
        "2. A urbanização influencia no aumento da obesidade?\n",
        "3. Regiões geográficas influenciam a obesidade?\n",
        "4. Países com alto consumo de fast food tendem a ter maior obesidade?\n",
        "5. A obesidade tem relação com o Índice de Desenvolvimento Humano (IDH)?"
      ],
      "metadata": {
        "id": "wCm8Xysbuznx"
      }
    },
    {
      "cell_type": "markdown",
      "source": [
        "# 3.0 EXPLORATORY DATA ANALYSIS - E.D.A"
      ],
      "metadata": {
        "id": "S3yBQJkpmy7D"
      }
    },
    {
      "cell_type": "code",
      "source": [
        "df3_ob = df2_ob.copy()\n",
        "df3_gdp = df2_gdp.copy()"
      ],
      "metadata": {
        "id": "YkisPOzctlkL"
      },
      "execution_count": 126,
      "outputs": []
    },
    {
      "cell_type": "markdown",
      "source": [
        "## 3.1 Questions - Obesity"
      ],
      "metadata": {
        "id": "trL08-TjtCvN"
      }
    },
    {
      "cell_type": "markdown",
      "source": [
        "1. Qual o percentual médio de obesidade por sexo no mundo, no ano de 2015 ?\n",
        "2. Quais são os 5 países com maior e menor taxa de aumento nos índices de obesidade no período observado ?\n",
        "3. Quais os países com maiores e menores níveis percentuais de obesidade em 2015 ?\n",
        "4. Qual a diferença média percentual de obesidade entre os sexos ao longo dos anos para o Brasil ?\n",
        "5. Plote um grafico sobre a evolução da obesidade de ambos os sexos no mundo."
      ],
      "metadata": {
        "id": "L1qZWsKwuSPv"
      }
    },
    {
      "cell_type": "markdown",
      "source": [
        "### P1 - Qual o percentual médio de obesidade por sexo no mundo, no ano de 2015 ?"
      ],
      "metadata": {
        "id": "eegK_stxorF3"
      }
    },
    {
      "cell_type": "code",
      "source": [
        "# Qual o percentual médio de obesidade por sexo no mundo, no ano de 2015 ?\n",
        "\n",
        "# filtrando o ano de 2015\n",
        "df_2015 = df3_ob[df3_ob['year'] == 2015]\n",
        "\n",
        "# tirando a média e agrupando por sexo\n",
        "obesity_by_sex = df_2015.groupby('sex')['obesity'].mean().reset_index()\n",
        "\n",
        "obesity_by_sex"
      ],
      "metadata": {
        "id": "p_q8e8zvHifp",
        "colab": {
          "base_uri": "https://localhost:8080/",
          "height": 143
        },
        "outputId": "b00ef215-0889-4884-b14b-d39865fc26f7"
      },
      "execution_count": 127,
      "outputs": [
        {
          "output_type": "execute_result",
          "data": {
            "text/plain": [
              "          sex    obesity\n",
              "0  Both sexes  19.508377\n",
              "1      Female  22.899476\n",
              "2        Male  15.980628"
            ],
            "text/html": [
              "\n",
              "  <div id=\"df-1ca6223b-d497-4645-93fd-d69a66f263d7\" class=\"colab-df-container\">\n",
              "    <div>\n",
              "<style scoped>\n",
              "    .dataframe tbody tr th:only-of-type {\n",
              "        vertical-align: middle;\n",
              "    }\n",
              "\n",
              "    .dataframe tbody tr th {\n",
              "        vertical-align: top;\n",
              "    }\n",
              "\n",
              "    .dataframe thead th {\n",
              "        text-align: right;\n",
              "    }\n",
              "</style>\n",
              "<table border=\"1\" class=\"dataframe\">\n",
              "  <thead>\n",
              "    <tr style=\"text-align: right;\">\n",
              "      <th></th>\n",
              "      <th>sex</th>\n",
              "      <th>obesity</th>\n",
              "    </tr>\n",
              "  </thead>\n",
              "  <tbody>\n",
              "    <tr>\n",
              "      <th>0</th>\n",
              "      <td>Both sexes</td>\n",
              "      <td>19.508377</td>\n",
              "    </tr>\n",
              "    <tr>\n",
              "      <th>1</th>\n",
              "      <td>Female</td>\n",
              "      <td>22.899476</td>\n",
              "    </tr>\n",
              "    <tr>\n",
              "      <th>2</th>\n",
              "      <td>Male</td>\n",
              "      <td>15.980628</td>\n",
              "    </tr>\n",
              "  </tbody>\n",
              "</table>\n",
              "</div>\n",
              "    <div class=\"colab-df-buttons\">\n",
              "\n",
              "  <div class=\"colab-df-container\">\n",
              "    <button class=\"colab-df-convert\" onclick=\"convertToInteractive('df-1ca6223b-d497-4645-93fd-d69a66f263d7')\"\n",
              "            title=\"Convert this dataframe to an interactive table.\"\n",
              "            style=\"display:none;\">\n",
              "\n",
              "  <svg xmlns=\"http://www.w3.org/2000/svg\" height=\"24px\" viewBox=\"0 -960 960 960\">\n",
              "    <path d=\"M120-120v-720h720v720H120Zm60-500h600v-160H180v160Zm220 220h160v-160H400v160Zm0 220h160v-160H400v160ZM180-400h160v-160H180v160Zm440 0h160v-160H620v160ZM180-180h160v-160H180v160Zm440 0h160v-160H620v160Z\"/>\n",
              "  </svg>\n",
              "    </button>\n",
              "\n",
              "  <style>\n",
              "    .colab-df-container {\n",
              "      display:flex;\n",
              "      gap: 12px;\n",
              "    }\n",
              "\n",
              "    .colab-df-convert {\n",
              "      background-color: #E8F0FE;\n",
              "      border: none;\n",
              "      border-radius: 50%;\n",
              "      cursor: pointer;\n",
              "      display: none;\n",
              "      fill: #1967D2;\n",
              "      height: 32px;\n",
              "      padding: 0 0 0 0;\n",
              "      width: 32px;\n",
              "    }\n",
              "\n",
              "    .colab-df-convert:hover {\n",
              "      background-color: #E2EBFA;\n",
              "      box-shadow: 0px 1px 2px rgba(60, 64, 67, 0.3), 0px 1px 3px 1px rgba(60, 64, 67, 0.15);\n",
              "      fill: #174EA6;\n",
              "    }\n",
              "\n",
              "    .colab-df-buttons div {\n",
              "      margin-bottom: 4px;\n",
              "    }\n",
              "\n",
              "    [theme=dark] .colab-df-convert {\n",
              "      background-color: #3B4455;\n",
              "      fill: #D2E3FC;\n",
              "    }\n",
              "\n",
              "    [theme=dark] .colab-df-convert:hover {\n",
              "      background-color: #434B5C;\n",
              "      box-shadow: 0px 1px 3px 1px rgba(0, 0, 0, 0.15);\n",
              "      filter: drop-shadow(0px 1px 2px rgba(0, 0, 0, 0.3));\n",
              "      fill: #FFFFFF;\n",
              "    }\n",
              "  </style>\n",
              "\n",
              "    <script>\n",
              "      const buttonEl =\n",
              "        document.querySelector('#df-1ca6223b-d497-4645-93fd-d69a66f263d7 button.colab-df-convert');\n",
              "      buttonEl.style.display =\n",
              "        google.colab.kernel.accessAllowed ? 'block' : 'none';\n",
              "\n",
              "      async function convertToInteractive(key) {\n",
              "        const element = document.querySelector('#df-1ca6223b-d497-4645-93fd-d69a66f263d7');\n",
              "        const dataTable =\n",
              "          await google.colab.kernel.invokeFunction('convertToInteractive',\n",
              "                                                    [key], {});\n",
              "        if (!dataTable) return;\n",
              "\n",
              "        const docLinkHtml = 'Like what you see? Visit the ' +\n",
              "          '<a target=\"_blank\" href=https://colab.research.google.com/notebooks/data_table.ipynb>data table notebook</a>'\n",
              "          + ' to learn more about interactive tables.';\n",
              "        element.innerHTML = '';\n",
              "        dataTable['output_type'] = 'display_data';\n",
              "        await google.colab.output.renderOutput(dataTable, element);\n",
              "        const docLink = document.createElement('div');\n",
              "        docLink.innerHTML = docLinkHtml;\n",
              "        element.appendChild(docLink);\n",
              "      }\n",
              "    </script>\n",
              "  </div>\n",
              "\n",
              "\n",
              "<div id=\"df-b1fb2034-2ebf-41bb-8d2e-c897119bb608\">\n",
              "  <button class=\"colab-df-quickchart\" onclick=\"quickchart('df-b1fb2034-2ebf-41bb-8d2e-c897119bb608')\"\n",
              "            title=\"Suggest charts\"\n",
              "            style=\"display:none;\">\n",
              "\n",
              "<svg xmlns=\"http://www.w3.org/2000/svg\" height=\"24px\"viewBox=\"0 0 24 24\"\n",
              "     width=\"24px\">\n",
              "    <g>\n",
              "        <path d=\"M19 3H5c-1.1 0-2 .9-2 2v14c0 1.1.9 2 2 2h14c1.1 0 2-.9 2-2V5c0-1.1-.9-2-2-2zM9 17H7v-7h2v7zm4 0h-2V7h2v10zm4 0h-2v-4h2v4z\"/>\n",
              "    </g>\n",
              "</svg>\n",
              "  </button>\n",
              "\n",
              "<style>\n",
              "  .colab-df-quickchart {\n",
              "      --bg-color: #E8F0FE;\n",
              "      --fill-color: #1967D2;\n",
              "      --hover-bg-color: #E2EBFA;\n",
              "      --hover-fill-color: #174EA6;\n",
              "      --disabled-fill-color: #AAA;\n",
              "      --disabled-bg-color: #DDD;\n",
              "  }\n",
              "\n",
              "  [theme=dark] .colab-df-quickchart {\n",
              "      --bg-color: #3B4455;\n",
              "      --fill-color: #D2E3FC;\n",
              "      --hover-bg-color: #434B5C;\n",
              "      --hover-fill-color: #FFFFFF;\n",
              "      --disabled-bg-color: #3B4455;\n",
              "      --disabled-fill-color: #666;\n",
              "  }\n",
              "\n",
              "  .colab-df-quickchart {\n",
              "    background-color: var(--bg-color);\n",
              "    border: none;\n",
              "    border-radius: 50%;\n",
              "    cursor: pointer;\n",
              "    display: none;\n",
              "    fill: var(--fill-color);\n",
              "    height: 32px;\n",
              "    padding: 0;\n",
              "    width: 32px;\n",
              "  }\n",
              "\n",
              "  .colab-df-quickchart:hover {\n",
              "    background-color: var(--hover-bg-color);\n",
              "    box-shadow: 0 1px 2px rgba(60, 64, 67, 0.3), 0 1px 3px 1px rgba(60, 64, 67, 0.15);\n",
              "    fill: var(--button-hover-fill-color);\n",
              "  }\n",
              "\n",
              "  .colab-df-quickchart-complete:disabled,\n",
              "  .colab-df-quickchart-complete:disabled:hover {\n",
              "    background-color: var(--disabled-bg-color);\n",
              "    fill: var(--disabled-fill-color);\n",
              "    box-shadow: none;\n",
              "  }\n",
              "\n",
              "  .colab-df-spinner {\n",
              "    border: 2px solid var(--fill-color);\n",
              "    border-color: transparent;\n",
              "    border-bottom-color: var(--fill-color);\n",
              "    animation:\n",
              "      spin 1s steps(1) infinite;\n",
              "  }\n",
              "\n",
              "  @keyframes spin {\n",
              "    0% {\n",
              "      border-color: transparent;\n",
              "      border-bottom-color: var(--fill-color);\n",
              "      border-left-color: var(--fill-color);\n",
              "    }\n",
              "    20% {\n",
              "      border-color: transparent;\n",
              "      border-left-color: var(--fill-color);\n",
              "      border-top-color: var(--fill-color);\n",
              "    }\n",
              "    30% {\n",
              "      border-color: transparent;\n",
              "      border-left-color: var(--fill-color);\n",
              "      border-top-color: var(--fill-color);\n",
              "      border-right-color: var(--fill-color);\n",
              "    }\n",
              "    40% {\n",
              "      border-color: transparent;\n",
              "      border-right-color: var(--fill-color);\n",
              "      border-top-color: var(--fill-color);\n",
              "    }\n",
              "    60% {\n",
              "      border-color: transparent;\n",
              "      border-right-color: var(--fill-color);\n",
              "    }\n",
              "    80% {\n",
              "      border-color: transparent;\n",
              "      border-right-color: var(--fill-color);\n",
              "      border-bottom-color: var(--fill-color);\n",
              "    }\n",
              "    90% {\n",
              "      border-color: transparent;\n",
              "      border-bottom-color: var(--fill-color);\n",
              "    }\n",
              "  }\n",
              "</style>\n",
              "\n",
              "  <script>\n",
              "    async function quickchart(key) {\n",
              "      const quickchartButtonEl =\n",
              "        document.querySelector('#' + key + ' button');\n",
              "      quickchartButtonEl.disabled = true;  // To prevent multiple clicks.\n",
              "      quickchartButtonEl.classList.add('colab-df-spinner');\n",
              "      try {\n",
              "        const charts = await google.colab.kernel.invokeFunction(\n",
              "            'suggestCharts', [key], {});\n",
              "      } catch (error) {\n",
              "        console.error('Error during call to suggestCharts:', error);\n",
              "      }\n",
              "      quickchartButtonEl.classList.remove('colab-df-spinner');\n",
              "      quickchartButtonEl.classList.add('colab-df-quickchart-complete');\n",
              "    }\n",
              "    (() => {\n",
              "      let quickchartButtonEl =\n",
              "        document.querySelector('#df-b1fb2034-2ebf-41bb-8d2e-c897119bb608 button');\n",
              "      quickchartButtonEl.style.display =\n",
              "        google.colab.kernel.accessAllowed ? 'block' : 'none';\n",
              "    })();\n",
              "  </script>\n",
              "</div>\n",
              "\n",
              "  <div id=\"id_338bee29-30c2-4e00-937d-e66df95dd85e\">\n",
              "    <style>\n",
              "      .colab-df-generate {\n",
              "        background-color: #E8F0FE;\n",
              "        border: none;\n",
              "        border-radius: 50%;\n",
              "        cursor: pointer;\n",
              "        display: none;\n",
              "        fill: #1967D2;\n",
              "        height: 32px;\n",
              "        padding: 0 0 0 0;\n",
              "        width: 32px;\n",
              "      }\n",
              "\n",
              "      .colab-df-generate:hover {\n",
              "        background-color: #E2EBFA;\n",
              "        box-shadow: 0px 1px 2px rgba(60, 64, 67, 0.3), 0px 1px 3px 1px rgba(60, 64, 67, 0.15);\n",
              "        fill: #174EA6;\n",
              "      }\n",
              "\n",
              "      [theme=dark] .colab-df-generate {\n",
              "        background-color: #3B4455;\n",
              "        fill: #D2E3FC;\n",
              "      }\n",
              "\n",
              "      [theme=dark] .colab-df-generate:hover {\n",
              "        background-color: #434B5C;\n",
              "        box-shadow: 0px 1px 3px 1px rgba(0, 0, 0, 0.15);\n",
              "        filter: drop-shadow(0px 1px 2px rgba(0, 0, 0, 0.3));\n",
              "        fill: #FFFFFF;\n",
              "      }\n",
              "    </style>\n",
              "    <button class=\"colab-df-generate\" onclick=\"generateWithVariable('obesity_by_sex')\"\n",
              "            title=\"Generate code using this dataframe.\"\n",
              "            style=\"display:none;\">\n",
              "\n",
              "  <svg xmlns=\"http://www.w3.org/2000/svg\" height=\"24px\"viewBox=\"0 0 24 24\"\n",
              "       width=\"24px\">\n",
              "    <path d=\"M7,19H8.4L18.45,9,17,7.55,7,17.6ZM5,21V16.75L18.45,3.32a2,2,0,0,1,2.83,0l1.4,1.43a1.91,1.91,0,0,1,.58,1.4,1.91,1.91,0,0,1-.58,1.4L9.25,21ZM18.45,9,17,7.55Zm-12,3A5.31,5.31,0,0,0,4.9,8.1,5.31,5.31,0,0,0,1,6.5,5.31,5.31,0,0,0,4.9,4.9,5.31,5.31,0,0,0,6.5,1,5.31,5.31,0,0,0,8.1,4.9,5.31,5.31,0,0,0,12,6.5,5.46,5.46,0,0,0,6.5,12Z\"/>\n",
              "  </svg>\n",
              "    </button>\n",
              "    <script>\n",
              "      (() => {\n",
              "      const buttonEl =\n",
              "        document.querySelector('#id_338bee29-30c2-4e00-937d-e66df95dd85e button.colab-df-generate');\n",
              "      buttonEl.style.display =\n",
              "        google.colab.kernel.accessAllowed ? 'block' : 'none';\n",
              "\n",
              "      buttonEl.onclick = () => {\n",
              "        google.colab.notebook.generateWithVariable('obesity_by_sex');\n",
              "      }\n",
              "      })();\n",
              "    </script>\n",
              "  </div>\n",
              "\n",
              "    </div>\n",
              "  </div>\n"
            ],
            "application/vnd.google.colaboratory.intrinsic+json": {
              "type": "dataframe",
              "variable_name": "obesity_by_sex",
              "summary": "{\n  \"name\": \"obesity_by_sex\",\n  \"rows\": 3,\n  \"fields\": [\n    {\n      \"column\": \"sex\",\n      \"properties\": {\n        \"dtype\": \"string\",\n        \"num_unique_values\": 3,\n        \"samples\": [\n          \"Both sexes\",\n          \"Female\",\n          \"Male\"\n        ],\n        \"semantic_type\": \"\",\n        \"description\": \"\"\n      }\n    },\n    {\n      \"column\": \"obesity\",\n      \"properties\": {\n        \"dtype\": \"number\",\n        \"std\": 3.459648981523167,\n        \"min\": 15.98062827225131,\n        \"max\": 22.899476439790575,\n        \"num_unique_values\": 3,\n        \"samples\": [\n          19.508376963350784,\n          22.899476439790575,\n          15.98062827225131\n        ],\n        \"semantic_type\": \"\",\n        \"description\": \"\"\n      }\n    }\n  ]\n}"
            }
          },
          "metadata": {},
          "execution_count": 127
        }
      ]
    },
    {
      "cell_type": "markdown",
      "source": [
        "### P2 - Quais são os 5 países com maior e menor taxa de aumento nos índices de obesidade no período observado ?\n"
      ],
      "metadata": {
        "id": "GHiKwTZhoz1v"
      }
    },
    {
      "cell_type": "code",
      "source": [
        "# criando o periodo de tempo\n",
        "df3_start_ob = df3_ob[df3_ob['year'] == 1975]\n",
        "df3_end_ob = df3_ob[df3_ob['year'] == 2016]\n",
        "\n",
        "# setando os index\n",
        "df3_start_ob.set_index('country', inplace=True)\n",
        "df3_end_ob.set_index('country', inplace=True)\n",
        "\n",
        "# Selecionando apenas os dados de \"Both sexes\"\n",
        "df3_start_filtered = df3_start_ob[df3_start_ob['sex'] == 'Both sexes']\n",
        "df3_end_filtered = df3_end_ob[df3_end_ob['sex'] == 'Both sexes']\n",
        "\n",
        "# Calculando a evolução da obesidade por país\n",
        "df3_ev = df3_end_filtered['obesity'] - df3_start_filtered['obesity']\n",
        "\n",
        "# Ordenando os países pela maior e menor variação\n",
        "df3_ev_sorted = df3_ev.sort_values(ascending=False).dropna()\n",
        "\n",
        "# Top 5 países com maior aumento\n",
        "top_5_aumento = df3_ev_sorted.head(5)\n",
        "\n",
        "# Top 5 países com menor aumento (ou maior redução)\n",
        "top_5_reducao = df3_ev_sorted.tail(5)\n",
        "\n",
        "# Exibindo os resultados\n",
        "print(\"Top 5 países com maior aumento na obesidade:\")\n",
        "print(top_5_aumento)\n",
        "\n",
        "print(\"\\nTop 5 países com menor aumento (ou redução) na obesidade:\")\n",
        "print(top_5_reducao)"
      ],
      "metadata": {
        "colab": {
          "base_uri": "https://localhost:8080/"
        },
        "id": "wig0Icm1KVqF",
        "outputId": "00a9b1b6-d44c-468d-eb1f-b83186e65d75"
      },
      "execution_count": 128,
      "outputs": [
        {
          "output_type": "stream",
          "name": "stdout",
          "text": [
            "Top 5 países com maior aumento na obesidade:\n",
            "country\n",
            "Tuvalu          33.7\n",
            "Niue            31.1\n",
            "Kiribati        30.1\n",
            "Tonga           28.3\n",
            "Cook Islands    27.9\n",
            "Name: obesity, dtype: float64\n",
            "\n",
            "Top 5 países com menor aumento (ou redução) na obesidade:\n",
            "country\n",
            "Timor-Leste    3.6\n",
            "Bangladesh     3.4\n",
            "Japan          3.3\n",
            "Singapore      3.1\n",
            "Viet Nam       2.0\n",
            "Name: obesity, dtype: float64\n"
          ]
        }
      ]
    },
    {
      "cell_type": "markdown",
      "source": [
        "### P3 - Quais os países com maiores e menores níveis percentuais de obesidade em 2015 ?"
      ],
      "metadata": {
        "id": "6O9GrExpo8Sv"
      }
    },
    {
      "cell_type": "code",
      "source": [
        "# definindo periodo\n",
        "df_2015 = df3_ob[df3_ob['year'] == 2015]\n",
        "\n",
        "# definindo o percentual maximo\n",
        "df_max_ob = df_2015[df_2015['obesity'] == df_2015['obesity'].max()]\n",
        "\n",
        "# definindo o percentual minimo\n",
        "df_min_ob = df_2015[df_2015['obesity'] == df_2015['obesity'].min()]\n",
        "\n",
        "print(\"País com maior percentual de obesidade em 2015:\")\n",
        "print(df_max_ob)\n",
        "\n",
        "print(\"\\nPaís com menor percentual de obesidade em 2015:\")\n",
        "print(df_min_ob)\n"
      ],
      "metadata": {
        "colab": {
          "base_uri": "https://localhost:8080/"
        },
        "id": "4yyK_2bfNx4F",
        "outputId": "0b61d268-751a-4c68-8498-a55d7bfc937e"
      },
      "execution_count": 129,
      "outputs": [
        {
          "output_type": "stream",
          "name": "stdout",
          "text": [
            "País com maior percentual de obesidade em 2015:\n",
            "      country  year     sex  obesity\n",
            "15116   Nauru  2015  Female     63.1\n",
            "\n",
            "País com menor percentual de obesidade em 2015:\n",
            "        country  year   sex  obesity\n",
            "24187  Viet Nam  2015  Male      1.5\n"
          ]
        }
      ]
    },
    {
      "cell_type": "markdown",
      "source": [
        "### P4 - Qual a diferença média percentual de obesidade entre os sexos ao longo dos anos para o Brasil ?"
      ],
      "metadata": {
        "id": "mrfsnZnTpFlU"
      }
    },
    {
      "cell_type": "code",
      "source": [
        "# selecionando os dados apenas do Brasil\n",
        "df3_brazil = df3_ob[df3_ob['country'] == 'Brazil']\n",
        "\n",
        "# selecionando os sexos no DataFrame Brazil\n",
        "df3_br_male = df3_brazil[df3_brazil['sex'] == 'Male']\n",
        "df3_br_female = df3_brazil[df3_brazil['sex'] == 'Female']\n",
        "\n",
        "# calculando a diferença entre os sexos\n",
        "df3_diff_br = df3_br_male['obesity'].mean() - df3_br_female['obesity'].mean()\n",
        "\n",
        "# plotando grafico\n",
        "plt.figure(figsize=(10, 6))\n",
        "sns.lineplot(data=df3_brazil, x='year', y='obesity', hue='sex')\n",
        "plt.ylabel('Obesity (%)')\n",
        "plt.xlabel('Year')\n",
        "plt.title('Obesity by Sex in Brazil')\n",
        "plt.show()\n"
      ],
      "metadata": {
        "colab": {
          "base_uri": "https://localhost:8080/",
          "height": 564
        },
        "id": "Y6_K0CXLOoCo",
        "outputId": "58d055b3-6efd-4ce3-bbc5-78bc41d58263"
      },
      "execution_count": 130,
      "outputs": [
        {
          "output_type": "display_data",
          "data": {
            "text/plain": [
              "<Figure size 1000x600 with 1 Axes>"
            ],
            "image/png": "[encoded data removed]"
          },
          "metadata": {}
        }
      ]
    },
    {
      "cell_type": "markdown",
      "source": [
        "### P5 - Plote um gráfico sobre a evolução da obesidade de ambos os sexos no mundo."
      ],
      "metadata": {
        "id": "gvxaH-yYpQCG"
      }
    },
    {
      "cell_type": "code",
      "source": [
        "# criando a variavel 'Both sexes'\n",
        "df3_both = df3_ob[df3_ob['sex'] == 'Both sexes']\n",
        "\n",
        "# medindo o comportamento da média durante os anos\n",
        "df3_both_mean = df3_both.groupby('year')['obesity'].mean()\n",
        "\n",
        "# plotando o grafico\n",
        "plt.figure(figsize=(10, 6))\n",
        "sns.lineplot(x=df3_both_mean.index, y=df3_both_mean.values, marker='o', linestyle='-')\n",
        "plt.ylabel('Obesity (%)')\n",
        "plt.xlabel('Years')\n",
        "plt.title('Evolution of Obesity in the World')\n",
        "plt.grid(True)"
      ],
      "metadata": {
        "colab": {
          "base_uri": "https://localhost:8080/",
          "height": 564
        },
        "id": "_BGpuKBteaYR",
        "outputId": "90aa4352-e475-445a-d1c9-19b172305703"
      },
      "execution_count": 131,
      "outputs": [
        {
          "output_type": "display_data",
          "data": {
            "text/plain": [
              "<Figure size 1000x600 with 1 Axes>"
            ],
            "image/png": "[encoded data removed]"
          },
          "metadata": {}
        }
      ]
    },
    {
      "cell_type": "markdown",
      "source": [
        "## 3.2 Questions - GDP"
      ],
      "metadata": {
        "id": "tcevrkd5DWvV"
      }
    },
    {
      "cell_type": "markdown",
      "source": [
        "### P1. Qual o primeiro valor registrado para cada país ?"
      ],
      "metadata": {
        "id": "IUr3aeA37FI8"
      }
    },
    {
      "cell_type": "code",
      "source": [
        "df3_gdp.groupby('country').min()['year']"
      ],
      "metadata": {
        "id": "H0glRgjued1a",
        "colab": {
          "base_uri": "https://localhost:8080/",
          "height": 490
        },
        "outputId": "0183bbdd-404d-4c81-9b49-3d67babc1ccd"
      },
      "execution_count": 132,
      "outputs": [
        {
          "output_type": "execute_result",
          "data": {
            "text/plain": [
              "country\n",
              "Afghanistan    1901\n",
              "Albania        1901\n",
              "Algeria        1901\n",
              "Andorra        1901\n",
              "Angola         1901\n",
              "               ... \n",
              "Venezuela      1901\n",
              "Vietnam        1901\n",
              "Yemen, Rep.    1901\n",
              "Zambia         1901\n",
              "Zimbabwe       1901\n",
              "Name: year, Length: 193, dtype: int64"
            ],
            "text/html": [
              "<div>\n",
              "<style scoped>\n",
              "    .dataframe tbody tr th:only-of-type {\n",
              "        vertical-align: middle;\n",
              "    }\n",
              "\n",
              "    .dataframe tbody tr th {\n",
              "        vertical-align: top;\n",
              "    }\n",
              "\n",
              "    .dataframe thead th {\n",
              "        text-align: right;\n",
              "    }\n",
              "</style>\n",
              "<table border=\"1\" class=\"dataframe\">\n",
              "  <thead>\n",
              "    <tr style=\"text-align: right;\">\n",
              "      <th></th>\n",
              "      <th>year</th>\n",
              "    </tr>\n",
              "    <tr>\n",
              "      <th>country</th>\n",
              "      <th></th>\n",
              "    </tr>\n",
              "  </thead>\n",
              "  <tbody>\n",
              "    <tr>\n",
              "      <th>Afghanistan</th>\n",
              "      <td>1901</td>\n",
              "    </tr>\n",
              "    <tr>\n",
              "      <th>Albania</th>\n",
              "      <td>1901</td>\n",
              "    </tr>\n",
              "    <tr>\n",
              "      <th>Algeria</th>\n",
              "      <td>1901</td>\n",
              "    </tr>\n",
              "    <tr>\n",
              "      <th>Andorra</th>\n",
              "      <td>1901</td>\n",
              "    </tr>\n",
              "    <tr>\n",
              "      <th>Angola</th>\n",
              "      <td>1901</td>\n",
              "    </tr>\n",
              "    <tr>\n",
              "      <th>...</th>\n",
              "      <td>...</td>\n",
              "    </tr>\n",
              "    <tr>\n",
              "      <th>Venezuela</th>\n",
              "      <td>1901</td>\n",
              "    </tr>\n",
              "    <tr>\n",
              "      <th>Vietnam</th>\n",
              "      <td>1901</td>\n",
              "    </tr>\n",
              "    <tr>\n",
              "      <th>Yemen, Rep.</th>\n",
              "      <td>1901</td>\n",
              "    </tr>\n",
              "    <tr>\n",
              "      <th>Zambia</th>\n",
              "      <td>1901</td>\n",
              "    </tr>\n",
              "    <tr>\n",
              "      <th>Zimbabwe</th>\n",
              "      <td>1901</td>\n",
              "    </tr>\n",
              "  </tbody>\n",
              "</table>\n",
              "<p>193 rows × 1 columns</p>\n",
              "</div><br><label><b>dtype:</b> int64</label>"
            ]
          },
          "metadata": {},
          "execution_count": 132
        }
      ]
    },
    {
      "cell_type": "code",
      "source": [
        "# conferindo a data maxima de um pais inserido no dataframe\n",
        "df3_gdp.groupby('country')['year'].min().max()\n",
        "\n",
        "# descobrindo quantas datas diferentes temos\n",
        "df3_gdp.groupby('country')['year'].min().value_counts()\n",
        "\n",
        "# descobrindo qual foi o ultimo país a ser registrado\n",
        "df3_gdp.groupby('country')['year'].min()[df3_gdp.groupby('country')['year'].min() == 1991]"
      ],
      "metadata": {
        "colab": {
          "base_uri": "https://localhost:8080/",
          "height": 147
        },
        "id": "OBhJfyd2765y",
        "outputId": "9ce4af58-8837-449c-fceb-8e60bc6fffa0"
      },
      "execution_count": 133,
      "outputs": [
        {
          "output_type": "execute_result",
          "data": {
            "text/plain": [
              "country\n",
              "Kosovo    1991\n",
              "Name: year, dtype: int64"
            ],
            "text/html": [
              "<div>\n",
              "<style scoped>\n",
              "    .dataframe tbody tr th:only-of-type {\n",
              "        vertical-align: middle;\n",
              "    }\n",
              "\n",
              "    .dataframe tbody tr th {\n",
              "        vertical-align: top;\n",
              "    }\n",
              "\n",
              "    .dataframe thead th {\n",
              "        text-align: right;\n",
              "    }\n",
              "</style>\n",
              "<table border=\"1\" class=\"dataframe\">\n",
              "  <thead>\n",
              "    <tr style=\"text-align: right;\">\n",
              "      <th></th>\n",
              "      <th>year</th>\n",
              "    </tr>\n",
              "    <tr>\n",
              "      <th>country</th>\n",
              "      <th></th>\n",
              "    </tr>\n",
              "  </thead>\n",
              "  <tbody>\n",
              "    <tr>\n",
              "      <th>Kosovo</th>\n",
              "      <td>1991</td>\n",
              "    </tr>\n",
              "  </tbody>\n",
              "</table>\n",
              "</div><br><label><b>dtype:</b> int64</label>"
            ]
          },
          "metadata": {},
          "execution_count": 133
        }
      ]
    },
    {
      "cell_type": "markdown",
      "source": [
        "### P2 - Quais são as Regiões com os maiores crescimento de PIB per capta no Século Passado?"
      ],
      "metadata": {
        "id": "ddTfQnZIAXm4"
      }
    },
    {
      "cell_type": "code",
      "source": [
        "# definindo o período antes do século atual\n",
        "df3_gdp[df3_gdp['year'] < 2000].max()\n",
        "\n",
        "# definindo os anos de start e end\n",
        "df3_gdp_start = df3_gdp[df3_gdp['year'] == 1901]\n",
        "df3_gdp_end = df3_gdp[df3_gdp['year'] == 1996]\n",
        "\n",
        "# calculando a diferença entre os periodos\n",
        "((df3_gdp_end.groupby('region')['gdp_pp'].mean() / df3_gdp_start.groupby('region')['gdp_pp'].mean() - 1) * 100 ).sort_values(ascending=False).reset_index()"
      ],
      "metadata": {
        "colab": {
          "base_uri": "https://localhost:8080/",
          "height": 300
        },
        "id": "NKha19i3CAGv",
        "outputId": "331be787-328a-4914-a7ad-0cf21345879d"
      },
      "execution_count": 134,
      "outputs": [
        {
          "output_type": "execute_result",
          "data": {
            "text/plain": [
              "                                          region      gdp_pp\n",
              "0  Middle East, North Africa, and Greater Arabia  857.215950\n",
              "1                                           Asia  711.761516\n",
              "2                                         Europe  594.046167\n",
              "3                                  North America  589.760175\n",
              "4              Central America and the Caribbean  406.426789\n",
              "5                          Australia and Oceania  396.075383\n",
              "6                                  South America  312.123735\n",
              "7                             Sub-Saharan Africa  248.633780"
            ],
            "text/html": [
              "\n",
              "  <div id=\"df-afdc548e-1de3-4f3d-8148-8898d13e81c0\" class=\"colab-df-container\">\n",
              "    <div>\n",
              "<style scoped>\n",
              "    .dataframe tbody tr th:only-of-type {\n",
              "        vertical-align: middle;\n",
              "    }\n",
              "\n",
              "    .dataframe tbody tr th {\n",
              "        vertical-align: top;\n",
              "    }\n",
              "\n",
              "    .dataframe thead th {\n",
              "        text-align: right;\n",
              "    }\n",
              "</style>\n",
              "<table border=\"1\" class=\"dataframe\">\n",
              "  <thead>\n",
              "    <tr style=\"text-align: right;\">\n",
              "      <th></th>\n",
              "      <th>region</th>\n",
              "      <th>gdp_pp</th>\n",
              "    </tr>\n",
              "  </thead>\n",
              "  <tbody>\n",
              "    <tr>\n",
              "      <th>0</th>\n",
              "      <td>Middle East, North Africa, and Greater Arabia</td>\n",
              "      <td>857.215950</td>\n",
              "    </tr>\n",
              "    <tr>\n",
              "      <th>1</th>\n",
              "      <td>Asia</td>\n",
              "      <td>711.761516</td>\n",
              "    </tr>\n",
              "    <tr>\n",
              "      <th>2</th>\n",
              "      <td>Europe</td>\n",
              "      <td>594.046167</td>\n",
              "    </tr>\n",
              "    <tr>\n",
              "      <th>3</th>\n",
              "      <td>North America</td>\n",
              "      <td>589.760175</td>\n",
              "    </tr>\n",
              "    <tr>\n",
              "      <th>4</th>\n",
              "      <td>Central America and the Caribbean</td>\n",
              "      <td>406.426789</td>\n",
              "    </tr>\n",
              "    <tr>\n",
              "      <th>5</th>\n",
              "      <td>Australia and Oceania</td>\n",
              "      <td>396.075383</td>\n",
              "    </tr>\n",
              "    <tr>\n",
              "      <th>6</th>\n",
              "      <td>South America</td>\n",
              "      <td>312.123735</td>\n",
              "    </tr>\n",
              "    <tr>\n",
              "      <th>7</th>\n",
              "      <td>Sub-Saharan Africa</td>\n",
              "      <td>248.633780</td>\n",
              "    </tr>\n",
              "  </tbody>\n",
              "</table>\n",
              "</div>\n",
              "    <div class=\"colab-df-buttons\">\n",
              "\n",
              "  <div class=\"colab-df-container\">\n",
              "    <button class=\"colab-df-convert\" onclick=\"convertToInteractive('df-afdc548e-1de3-4f3d-8148-8898d13e81c0')\"\n",
              "            title=\"Convert this dataframe to an interactive table.\"\n",
              "            style=\"display:none;\">\n",
              "\n",
              "  <svg xmlns=\"http://www.w3.org/2000/svg\" height=\"24px\" viewBox=\"0 -960 960 960\">\n",
              "    <path d=\"M120-120v-720h720v720H120Zm60-500h600v-160H180v160Zm220 220h160v-160H400v160Zm0 220h160v-160H400v160ZM180-400h160v-160H180v160Zm440 0h160v-160H620v160ZM180-180h160v-160H180v160Zm440 0h160v-160H620v160Z\"/>\n",
              "  </svg>\n",
              "    </button>\n",
              "\n",
              "  <style>\n",
              "    .colab-df-container {\n",
              "      display:flex;\n",
              "      gap: 12px;\n",
              "    }\n",
              "\n",
              "    .colab-df-convert {\n",
              "      background-color: #E8F0FE;\n",
              "      border: none;\n",
              "      border-radius: 50%;\n",
              "      cursor: pointer;\n",
              "      display: none;\n",
              "      fill: #1967D2;\n",
              "      height: 32px;\n",
              "      padding: 0 0 0 0;\n",
              "      width: 32px;\n",
              "    }\n",
              "\n",
              "    .colab-df-convert:hover {\n",
              "      background-color: #E2EBFA;\n",
              "      box-shadow: 0px 1px 2px rgba(60, 64, 67, 0.3), 0px 1px 3px 1px rgba(60, 64, 67, 0.15);\n",
              "      fill: #174EA6;\n",
              "    }\n",
              "\n",
              "    .colab-df-buttons div {\n",
              "      margin-bottom: 4px;\n",
              "    }\n",
              "\n",
              "    [theme=dark] .colab-df-convert {\n",
              "      background-color: #3B4455;\n",
              "      fill: #D2E3FC;\n",
              "    }\n",
              "\n",
              "    [theme=dark] .colab-df-convert:hover {\n",
              "      background-color: #434B5C;\n",
              "      box-shadow: 0px 1px 3px 1px rgba(0, 0, 0, 0.15);\n",
              "      filter: drop-shadow(0px 1px 2px rgba(0, 0, 0, 0.3));\n",
              "      fill: #FFFFFF;\n",
              "    }\n",
              "  </style>\n",
              "\n",
              "    <script>\n",
              "      const buttonEl =\n",
              "        document.querySelector('#df-afdc548e-1de3-4f3d-8148-8898d13e81c0 button.colab-df-convert');\n",
              "      buttonEl.style.display =\n",
              "        google.colab.kernel.accessAllowed ? 'block' : 'none';\n",
              "\n",
              "      async function convertToInteractive(key) {\n",
              "        const element = document.querySelector('#df-afdc548e-1de3-4f3d-8148-8898d13e81c0');\n",
              "        const dataTable =\n",
              "          await google.colab.kernel.invokeFunction('convertToInteractive',\n",
              "                                                    [key], {});\n",
              "        if (!dataTable) return;\n",
              "\n",
              "        const docLinkHtml = 'Like what you see? Visit the ' +\n",
              "          '<a target=\"_blank\" href=https://colab.research.google.com/notebooks/data_table.ipynb>data table notebook</a>'\n",
              "          + ' to learn more about interactive tables.';\n",
              "        element.innerHTML = '';\n",
              "        dataTable['output_type'] = 'display_data';\n",
              "        await google.colab.output.renderOutput(dataTable, element);\n",
              "        const docLink = document.createElement('div');\n",
              "        docLink.innerHTML = docLinkHtml;\n",
              "        element.appendChild(docLink);\n",
              "      }\n",
              "    </script>\n",
              "  </div>\n",
              "\n",
              "\n",
              "<div id=\"df-5e2a2e63-5fc1-41f5-b927-2d8e8207cad7\">\n",
              "  <button class=\"colab-df-quickchart\" onclick=\"quickchart('df-5e2a2e63-5fc1-41f5-b927-2d8e8207cad7')\"\n",
              "            title=\"Suggest charts\"\n",
              "            style=\"display:none;\">\n",
              "\n",
              "<svg xmlns=\"http://www.w3.org/2000/svg\" height=\"24px\"viewBox=\"0 0 24 24\"\n",
              "     width=\"24px\">\n",
              "    <g>\n",
              "        <path d=\"M19 3H5c-1.1 0-2 .9-2 2v14c0 1.1.9 2 2 2h14c1.1 0 2-.9 2-2V5c0-1.1-.9-2-2-2zM9 17H7v-7h2v7zm4 0h-2V7h2v10zm4 0h-2v-4h2v4z\"/>\n",
              "    </g>\n",
              "</svg>\n",
              "  </button>\n",
              "\n",
              "<style>\n",
              "  .colab-df-quickchart {\n",
              "      --bg-color: #E8F0FE;\n",
              "      --fill-color: #1967D2;\n",
              "      --hover-bg-color: #E2EBFA;\n",
              "      --hover-fill-color: #174EA6;\n",
              "      --disabled-fill-color: #AAA;\n",
              "      --disabled-bg-color: #DDD;\n",
              "  }\n",
              "\n",
              "  [theme=dark] .colab-df-quickchart {\n",
              "      --bg-color: #3B4455;\n",
              "      --fill-color: #D2E3FC;\n",
              "      --hover-bg-color: #434B5C;\n",
              "      --hover-fill-color: #FFFFFF;\n",
              "      --disabled-bg-color: #3B4455;\n",
              "      --disabled-fill-color: #666;\n",
              "  }\n",
              "\n",
              "  .colab-df-quickchart {\n",
              "    background-color: var(--bg-color);\n",
              "    border: none;\n",
              "    border-radius: 50%;\n",
              "    cursor: pointer;\n",
              "    display: none;\n",
              "    fill: var(--fill-color);\n",
              "    height: 32px;\n",
              "    padding: 0;\n",
              "    width: 32px;\n",
              "  }\n",
              "\n",
              "  .colab-df-quickchart:hover {\n",
              "    background-color: var(--hover-bg-color);\n",
              "    box-shadow: 0 1px 2px rgba(60, 64, 67, 0.3), 0 1px 3px 1px rgba(60, 64, 67, 0.15);\n",
              "    fill: var(--button-hover-fill-color);\n",
              "  }\n",
              "\n",
              "  .colab-df-quickchart-complete:disabled,\n",
              "  .colab-df-quickchart-complete:disabled:hover {\n",
              "    background-color: var(--disabled-bg-color);\n",
              "    fill: var(--disabled-fill-color);\n",
              "    box-shadow: none;\n",
              "  }\n",
              "\n",
              "  .colab-df-spinner {\n",
              "    border: 2px solid var(--fill-color);\n",
              "    border-color: transparent;\n",
              "    border-bottom-color: var(--fill-color);\n",
              "    animation:\n",
              "      spin 1s steps(1) infinite;\n",
              "  }\n",
              "\n",
              "  @keyframes spin {\n",
              "    0% {\n",
              "      border-color: transparent;\n",
              "      border-bottom-color: var(--fill-color);\n",
              "      border-left-color: var(--fill-color);\n",
              "    }\n",
              "    20% {\n",
              "      border-color: transparent;\n",
              "      border-left-color: var(--fill-color);\n",
              "      border-top-color: var(--fill-color);\n",
              "    }\n",
              "    30% {\n",
              "      border-color: transparent;\n",
              "      border-left-color: var(--fill-color);\n",
              "      border-top-color: var(--fill-color);\n",
              "      border-right-color: var(--fill-color);\n",
              "    }\n",
              "    40% {\n",
              "      border-color: transparent;\n",
              "      border-right-color: var(--fill-color);\n",
              "      border-top-color: var(--fill-color);\n",
              "    }\n",
              "    60% {\n",
              "      border-color: transparent;\n",
              "      border-right-color: var(--fill-color);\n",
              "    }\n",
              "    80% {\n",
              "      border-color: transparent;\n",
              "      border-right-color: var(--fill-color);\n",
              "      border-bottom-color: var(--fill-color);\n",
              "    }\n",
              "    90% {\n",
              "      border-color: transparent;\n",
              "      border-bottom-color: var(--fill-color);\n",
              "    }\n",
              "  }\n",
              "</style>\n",
              "\n",
              "  <script>\n",
              "    async function quickchart(key) {\n",
              "      const quickchartButtonEl =\n",
              "        document.querySelector('#' + key + ' button');\n",
              "      quickchartButtonEl.disabled = true;  // To prevent multiple clicks.\n",
              "      quickchartButtonEl.classList.add('colab-df-spinner');\n",
              "      try {\n",
              "        const charts = await google.colab.kernel.invokeFunction(\n",
              "            'suggestCharts', [key], {});\n",
              "      } catch (error) {\n",
              "        console.error('Error during call to suggestCharts:', error);\n",
              "      }\n",
              "      quickchartButtonEl.classList.remove('colab-df-spinner');\n",
              "      quickchartButtonEl.classList.add('colab-df-quickchart-complete');\n",
              "    }\n",
              "    (() => {\n",
              "      let quickchartButtonEl =\n",
              "        document.querySelector('#df-5e2a2e63-5fc1-41f5-b927-2d8e8207cad7 button');\n",
              "      quickchartButtonEl.style.display =\n",
              "        google.colab.kernel.accessAllowed ? 'block' : 'none';\n",
              "    })();\n",
              "  </script>\n",
              "</div>\n",
              "\n",
              "    </div>\n",
              "  </div>\n"
            ],
            "application/vnd.google.colaboratory.intrinsic+json": {
              "type": "dataframe",
              "summary": "{\n  \"name\": \"((df3_gdp_end\",\n  \"rows\": 8,\n  \"fields\": [\n    {\n      \"column\": \"region\",\n      \"properties\": {\n        \"dtype\": \"string\",\n        \"num_unique_values\": 8,\n        \"samples\": [\n          \"Asia\",\n          \"Australia and Oceania\",\n          \"Middle East, North Africa, and Greater Arabia\"\n        ],\n        \"semantic_type\": \"\",\n        \"description\": \"\"\n      }\n    },\n    {\n      \"column\": \"gdp_pp\",\n      \"properties\": {\n        \"dtype\": \"number\",\n        \"std\": 208.9782021244532,\n        \"min\": 248.63378019635846,\n        \"max\": 857.2159499328793,\n        \"num_unique_values\": 8,\n        \"samples\": [\n          711.7615156317202,\n          396.0753828853883,\n          857.2159499328793\n        ],\n        \"semantic_type\": \"\",\n        \"description\": \"\"\n      }\n    }\n  ]\n}"
            }
          },
          "metadata": {},
          "execution_count": 134
        }
      ]
    },
    {
      "cell_type": "markdown",
      "source": [
        "### P3 - Preencha os anos ausentes em cada país com uma estimativa baseada na diferença entre o próximo registro e o anterior"
      ],
      "metadata": {
        "id": "w3kyCYBtJidV"
      }
    },
    {
      "cell_type": "code",
      "source": [
        "# criando a lista de anos atraves do arange\n",
        "arr_year = np.arange(df3_gdp['year'].min(), df3_gdp['year'].max())\n",
        "\n",
        "# criando o dataframe all years\n",
        "df3_gdp_all_years = pd.DataFrame(arr_year, columns=['year'])\n",
        "\n",
        "# setando o index do dataframe criado\n",
        "df3_gdp_all_years.index = df3_gdp_all_years['year']\n",
        "\n",
        "# criando o dataframe dos anos que não estão no dataframe original e invertendo a ordem\n",
        "df3_gdp_years_off = ~df3_gdp_all_years['year'].isin(df3_gdp['year'])\n",
        "df3_gdp_years_off = df3_gdp_years_off[df3_gdp_years_off].index"
      ],
      "metadata": {
        "id": "51yGkQFdJ7GG"
      },
      "execution_count": 135,
      "outputs": []
    },
    {
      "cell_type": "code",
      "source": [
        "df3_gdp_years_off"
      ],
      "metadata": {
        "colab": {
          "base_uri": "https://localhost:8080/"
        },
        "id": "pMMIJMZCEul9",
        "outputId": "6ff82eac-5bb9-4362-fbf9-03a884ecb477"
      },
      "execution_count": 136,
      "outputs": [
        {
          "output_type": "execute_result",
          "data": {
            "text/plain": [
              "Index([1902, 1903, 1904, 1905, 1907, 1908, 1909, 1910, 1912, 1913, 1914, 1915,\n",
              "       1917, 1918, 1919, 1920, 1922, 1923, 1924, 1925, 1927, 1928, 1929, 1930,\n",
              "       1932, 1933, 1934, 1935, 1937, 1938, 1939, 1940, 1942, 1943, 1944, 1945,\n",
              "       1947, 1948, 1949, 1950, 1952, 1953, 1954, 1955, 1957, 1958, 1959, 1960,\n",
              "       1962, 1963, 1964, 1965, 1967, 1968, 1969, 1970, 1972, 1973, 1974, 1975,\n",
              "       1977, 1978, 1979, 1980, 1982, 1983, 1984, 1985, 1987, 1988, 1989, 1990,\n",
              "       1992, 1993, 1994, 1995, 1997, 1998, 1999, 2000, 2002, 2003, 2004, 2005,\n",
              "       2007, 2008, 2009, 2010],\n",
              "      dtype='int64', name='year')"
            ]
          },
          "metadata": {},
          "execution_count": 136
        }
      ]
    },
    {
      "cell_type": "code",
      "source": [
        "# definindo a ordem do dataframe\n",
        "df3_gdp = df3_gdp.sort_values(['country', 'year'])\n",
        "\n",
        "# calculando a variação da oscilaçao do GDP e quantos anos se passaram\n",
        "df3_gdp['delta_gdp'] = df3_gdp['gdp_pp'] - df3_gdp['gdp_pp'].shift(1)\n",
        "df3_gdp['delta_year'] = df3_gdp['year'] - df3_gdp['year'].shift(1)\n",
        "df3_gdp['gdp_year'] = (df3_gdp['delta_gdp'] / df3_gdp['delta_year']).shift(-1)\n",
        "df3_gdp['next_year'] = df3_gdp['year'].shift(-1)\n",
        "\n",
        "# deletando as colunas que não serão mais necessárias\n",
        "del df3_gdp['delta_gdp'], df3_gdp['delta_year']\n",
        "\n"
      ],
      "metadata": {
        "id": "Tjk8_wKhRJaG"
      },
      "execution_count": 137,
      "outputs": []
    },
    {
      "cell_type": "code",
      "source": [
        "# criando o dataframe que serão inseridas as novas informações\n",
        "df3_gdp_nd = pd.DataFrame()\n",
        "\n",
        "# utilizando a interação com interrows\n",
        "for idx, row in df3_gdp.iterrows():\n",
        "    if row['year'] == 2011:\n",
        "      continue\n",
        "\n",
        "    # adicionando os anos através de condicionais\n",
        "    years_to_add = df3_gdp_years_off[(df3_gdp_years_off < row['next_year']) & (df3_gdp_years_off > row['year'])]\n",
        "\n",
        "    for new_year in years_to_add:\n",
        "        add_row = row.copy() # fazendo uma copia para manipulação e depois ser inserido\n",
        "        add_row['gdp_pp'] = (new_year - add_row['year']) * add_row['gdp_year'] + add_row['gdp_pp']\n",
        "        add_row['year'] = new_year\n",
        "        add_row['kind'] = 'estimated'\n",
        "        df3_gdp_nd = pd.concat([df3_gdp_nd, add_row.to_frame().transpose()])"
      ],
      "metadata": {
        "id": "e66Zz_KXZAgR"
      },
      "execution_count": 138,
      "outputs": []
    },
    {
      "cell_type": "code",
      "source": [
        "# checando o df de forma aleatória\n",
        "\n",
        "df3_gdp.iloc[100:].head(10)"
      ],
      "metadata": {
        "colab": {
          "base_uri": "https://localhost:8080/",
          "height": 363
        },
        "id": "nhdp4lnbwwSF",
        "outputId": "2615476a-eed7-4a68-cf8b-7e2d76526782"
      },
      "execution_count": 139,
      "outputs": [
        {
          "output_type": "execute_result",
          "data": {
            "text/plain": [
              "    country              region  year   gdp_pp  gdp_year  next_year\n",
              "100  Angola  Sub-Saharan Africa  1941  2170.80   119.530     1946.0\n",
              "101  Angola  Sub-Saharan Africa  1946  2768.45   134.490     1951.0\n",
              "102  Angola  Sub-Saharan Africa  1951  3440.90    21.628     1956.0\n",
              "103  Angola  Sub-Saharan Africa  1956  3549.04   182.958     1961.0\n",
              "104  Angola  Sub-Saharan Africa  1961  4463.83   168.862     1966.0\n",
              "105  Angola  Sub-Saharan Africa  1966  5308.14    43.614     1971.0\n",
              "106  Angola  Sub-Saharan Africa  1971  5526.21  -495.178     1976.0\n",
              "107  Angola  Sub-Saharan Africa  1976  3050.32   -19.382     1981.0\n",
              "108  Angola  Sub-Saharan Africa  1981  2953.41  -146.560     1986.0\n",
              "109  Angola  Sub-Saharan Africa  1986  2220.61   102.048     1991.0"
            ],
            "text/html": [
              "\n",
              "  <div id=\"df-ae6b0d14-a416-4c66-b4af-19037e9774ab\" class=\"colab-df-container\">\n",
              "    <div>\n",
              "<style scoped>\n",
              "    .dataframe tbody tr th:only-of-type {\n",
              "        vertical-align: middle;\n",
              "    }\n",
              "\n",
              "    .dataframe tbody tr th {\n",
              "        vertical-align: top;\n",
              "    }\n",
              "\n",
              "    .dataframe thead th {\n",
              "        text-align: right;\n",
              "    }\n",
              "</style>\n",
              "<table border=\"1\" class=\"dataframe\">\n",
              "  <thead>\n",
              "    <tr style=\"text-align: right;\">\n",
              "      <th></th>\n",
              "      <th>country</th>\n",
              "      <th>region</th>\n",
              "      <th>year</th>\n",
              "      <th>gdp_pp</th>\n",
              "      <th>gdp_year</th>\n",
              "      <th>next_year</th>\n",
              "    </tr>\n",
              "  </thead>\n",
              "  <tbody>\n",
              "    <tr>\n",
              "      <th>100</th>\n",
              "      <td>Angola</td>\n",
              "      <td>Sub-Saharan Africa</td>\n",
              "      <td>1941</td>\n",
              "      <td>2170.80</td>\n",
              "      <td>119.530</td>\n",
              "      <td>1946.0</td>\n",
              "    </tr>\n",
              "    <tr>\n",
              "      <th>101</th>\n",
              "      <td>Angola</td>\n",
              "      <td>Sub-Saharan Africa</td>\n",
              "      <td>1946</td>\n",
              "      <td>2768.45</td>\n",
              "      <td>134.490</td>\n",
              "      <td>1951.0</td>\n",
              "    </tr>\n",
              "    <tr>\n",
              "      <th>102</th>\n",
              "      <td>Angola</td>\n",
              "      <td>Sub-Saharan Africa</td>\n",
              "      <td>1951</td>\n",
              "      <td>3440.90</td>\n",
              "      <td>21.628</td>\n",
              "      <td>1956.0</td>\n",
              "    </tr>\n",
              "    <tr>\n",
              "      <th>103</th>\n",
              "      <td>Angola</td>\n",
              "      <td>Sub-Saharan Africa</td>\n",
              "      <td>1956</td>\n",
              "      <td>3549.04</td>\n",
              "      <td>182.958</td>\n",
              "      <td>1961.0</td>\n",
              "    </tr>\n",
              "    <tr>\n",
              "      <th>104</th>\n",
              "      <td>Angola</td>\n",
              "      <td>Sub-Saharan Africa</td>\n",
              "      <td>1961</td>\n",
              "      <td>4463.83</td>\n",
              "      <td>168.862</td>\n",
              "      <td>1966.0</td>\n",
              "    </tr>\n",
              "    <tr>\n",
              "      <th>105</th>\n",
              "      <td>Angola</td>\n",
              "      <td>Sub-Saharan Africa</td>\n",
              "      <td>1966</td>\n",
              "      <td>5308.14</td>\n",
              "      <td>43.614</td>\n",
              "      <td>1971.0</td>\n",
              "    </tr>\n",
              "    <tr>\n",
              "      <th>106</th>\n",
              "      <td>Angola</td>\n",
              "      <td>Sub-Saharan Africa</td>\n",
              "      <td>1971</td>\n",
              "      <td>5526.21</td>\n",
              "      <td>-495.178</td>\n",
              "      <td>1976.0</td>\n",
              "    </tr>\n",
              "    <tr>\n",
              "      <th>107</th>\n",
              "      <td>Angola</td>\n",
              "      <td>Sub-Saharan Africa</td>\n",
              "      <td>1976</td>\n",
              "      <td>3050.32</td>\n",
              "      <td>-19.382</td>\n",
              "      <td>1981.0</td>\n",
              "    </tr>\n",
              "    <tr>\n",
              "      <th>108</th>\n",
              "      <td>Angola</td>\n",
              "      <td>Sub-Saharan Africa</td>\n",
              "      <td>1981</td>\n",
              "      <td>2953.41</td>\n",
              "      <td>-146.560</td>\n",
              "      <td>1986.0</td>\n",
              "    </tr>\n",
              "    <tr>\n",
              "      <th>109</th>\n",
              "      <td>Angola</td>\n",
              "      <td>Sub-Saharan Africa</td>\n",
              "      <td>1986</td>\n",
              "      <td>2220.61</td>\n",
              "      <td>102.048</td>\n",
              "      <td>1991.0</td>\n",
              "    </tr>\n",
              "  </tbody>\n",
              "</table>\n",
              "</div>\n",
              "    <div class=\"colab-df-buttons\">\n",
              "\n",
              "  <div class=\"colab-df-container\">\n",
              "    <button class=\"colab-df-convert\" onclick=\"convertToInteractive('df-ae6b0d14-a416-4c66-b4af-19037e9774ab')\"\n",
              "            title=\"Convert this dataframe to an interactive table.\"\n",
              "            style=\"display:none;\">\n",
              "\n",
              "  <svg xmlns=\"http://www.w3.org/2000/svg\" height=\"24px\" viewBox=\"0 -960 960 960\">\n",
              "    <path d=\"M120-120v-720h720v720H120Zm60-500h600v-160H180v160Zm220 220h160v-160H400v160Zm0 220h160v-160H400v160ZM180-400h160v-160H180v160Zm440 0h160v-160H620v160ZM180-180h160v-160H180v160Zm440 0h160v-160H620v160Z\"/>\n",
              "  </svg>\n",
              "    </button>\n",
              "\n",
              "  <style>\n",
              "    .colab-df-container {\n",
              "      display:flex;\n",
              "      gap: 12px;\n",
              "    }\n",
              "\n",
              "    .colab-df-convert {\n",
              "      background-color: #E8F0FE;\n",
              "      border: none;\n",
              "      border-radius: 50%;\n",
              "      cursor: pointer;\n",
              "      display: none;\n",
              "      fill: #1967D2;\n",
              "      height: 32px;\n",
              "      padding: 0 0 0 0;\n",
              "      width: 32px;\n",
              "    }\n",
              "\n",
              "    .colab-df-convert:hover {\n",
              "      background-color: #E2EBFA;\n",
              "      box-shadow: 0px 1px 2px rgba(60, 64, 67, 0.3), 0px 1px 3px 1px rgba(60, 64, 67, 0.15);\n",
              "      fill: #174EA6;\n",
              "    }\n",
              "\n",
              "    .colab-df-buttons div {\n",
              "      margin-bottom: 4px;\n",
              "    }\n",
              "\n",
              "    [theme=dark] .colab-df-convert {\n",
              "      background-color: #3B4455;\n",
              "      fill: #D2E3FC;\n",
              "    }\n",
              "\n",
              "    [theme=dark] .colab-df-convert:hover {\n",
              "      background-color: #434B5C;\n",
              "      box-shadow: 0px 1px 3px 1px rgba(0, 0, 0, 0.15);\n",
              "      filter: drop-shadow(0px 1px 2px rgba(0, 0, 0, 0.3));\n",
              "      fill: #FFFFFF;\n",
              "    }\n",
              "  </style>\n",
              "\n",
              "    <script>\n",
              "      const buttonEl =\n",
              "        document.querySelector('#df-ae6b0d14-a416-4c66-b4af-19037e9774ab button.colab-df-convert');\n",
              "      buttonEl.style.display =\n",
              "        google.colab.kernel.accessAllowed ? 'block' : 'none';\n",
              "\n",
              "      async function convertToInteractive(key) {\n",
              "        const element = document.querySelector('#df-ae6b0d14-a416-4c66-b4af-19037e9774ab');\n",
              "        const dataTable =\n",
              "          await google.colab.kernel.invokeFunction('convertToInteractive',\n",
              "                                                    [key], {});\n",
              "        if (!dataTable) return;\n",
              "\n",
              "        const docLinkHtml = 'Like what you see? Visit the ' +\n",
              "          '<a target=\"_blank\" href=https://colab.research.google.com/notebooks/data_table.ipynb>data table notebook</a>'\n",
              "          + ' to learn more about interactive tables.';\n",
              "        element.innerHTML = '';\n",
              "        dataTable['output_type'] = 'display_data';\n",
              "        await google.colab.output.renderOutput(dataTable, element);\n",
              "        const docLink = document.createElement('div');\n",
              "        docLink.innerHTML = docLinkHtml;\n",
              "        element.appendChild(docLink);\n",
              "      }\n",
              "    </script>\n",
              "  </div>\n",
              "\n",
              "\n",
              "<div id=\"df-cff5856a-29fe-419f-b17b-6fa027f5e1db\">\n",
              "  <button class=\"colab-df-quickchart\" onclick=\"quickchart('df-cff5856a-29fe-419f-b17b-6fa027f5e1db')\"\n",
              "            title=\"Suggest charts\"\n",
              "            style=\"display:none;\">\n",
              "\n",
              "<svg xmlns=\"http://www.w3.org/2000/svg\" height=\"24px\"viewBox=\"0 0 24 24\"\n",
              "     width=\"24px\">\n",
              "    <g>\n",
              "        <path d=\"M19 3H5c-1.1 0-2 .9-2 2v14c0 1.1.9 2 2 2h14c1.1 0 2-.9 2-2V5c0-1.1-.9-2-2-2zM9 17H7v-7h2v7zm4 0h-2V7h2v10zm4 0h-2v-4h2v4z\"/>\n",
              "    </g>\n",
              "</svg>\n",
              "  </button>\n",
              "\n",
              "<style>\n",
              "  .colab-df-quickchart {\n",
              "      --bg-color: #E8F0FE;\n",
              "      --fill-color: #1967D2;\n",
              "      --hover-bg-color: #E2EBFA;\n",
              "      --hover-fill-color: #174EA6;\n",
              "      --disabled-fill-color: #AAA;\n",
              "      --disabled-bg-color: #DDD;\n",
              "  }\n",
              "\n",
              "  [theme=dark] .colab-df-quickchart {\n",
              "      --bg-color: #3B4455;\n",
              "      --fill-color: #D2E3FC;\n",
              "      --hover-bg-color: #434B5C;\n",
              "      --hover-fill-color: #FFFFFF;\n",
              "      --disabled-bg-color: #3B4455;\n",
              "      --disabled-fill-color: #666;\n",
              "  }\n",
              "\n",
              "  .colab-df-quickchart {\n",
              "    background-color: var(--bg-color);\n",
              "    border: none;\n",
              "    border-radius: 50%;\n",
              "    cursor: pointer;\n",
              "    display: none;\n",
              "    fill: var(--fill-color);\n",
              "    height: 32px;\n",
              "    padding: 0;\n",
              "    width: 32px;\n",
              "  }\n",
              "\n",
              "  .colab-df-quickchart:hover {\n",
              "    background-color: var(--hover-bg-color);\n",
              "    box-shadow: 0 1px 2px rgba(60, 64, 67, 0.3), 0 1px 3px 1px rgba(60, 64, 67, 0.15);\n",
              "    fill: var(--button-hover-fill-color);\n",
              "  }\n",
              "\n",
              "  .colab-df-quickchart-complete:disabled,\n",
              "  .colab-df-quickchart-complete:disabled:hover {\n",
              "    background-color: var(--disabled-bg-color);\n",
              "    fill: var(--disabled-fill-color);\n",
              "    box-shadow: none;\n",
              "  }\n",
              "\n",
              "  .colab-df-spinner {\n",
              "    border: 2px solid var(--fill-color);\n",
              "    border-color: transparent;\n",
              "    border-bottom-color: var(--fill-color);\n",
              "    animation:\n",
              "      spin 1s steps(1) infinite;\n",
              "  }\n",
              "\n",
              "  @keyframes spin {\n",
              "    0% {\n",
              "      border-color: transparent;\n",
              "      border-bottom-color: var(--fill-color);\n",
              "      border-left-color: var(--fill-color);\n",
              "    }\n",
              "    20% {\n",
              "      border-color: transparent;\n",
              "      border-left-color: var(--fill-color);\n",
              "      border-top-color: var(--fill-color);\n",
              "    }\n",
              "    30% {\n",
              "      border-color: transparent;\n",
              "      border-left-color: var(--fill-color);\n",
              "      border-top-color: var(--fill-color);\n",
              "      border-right-color: var(--fill-color);\n",
              "    }\n",
              "    40% {\n",
              "      border-color: transparent;\n",
              "      border-right-color: var(--fill-color);\n",
              "      border-top-color: var(--fill-color);\n",
              "    }\n",
              "    60% {\n",
              "      border-color: transparent;\n",
              "      border-right-color: var(--fill-color);\n",
              "    }\n",
              "    80% {\n",
              "      border-color: transparent;\n",
              "      border-right-color: var(--fill-color);\n",
              "      border-bottom-color: var(--fill-color);\n",
              "    }\n",
              "    90% {\n",
              "      border-color: transparent;\n",
              "      border-bottom-color: var(--fill-color);\n",
              "    }\n",
              "  }\n",
              "</style>\n",
              "\n",
              "  <script>\n",
              "    async function quickchart(key) {\n",
              "      const quickchartButtonEl =\n",
              "        document.querySelector('#' + key + ' button');\n",
              "      quickchartButtonEl.disabled = true;  // To prevent multiple clicks.\n",
              "      quickchartButtonEl.classList.add('colab-df-spinner');\n",
              "      try {\n",
              "        const charts = await google.colab.kernel.invokeFunction(\n",
              "            'suggestCharts', [key], {});\n",
              "      } catch (error) {\n",
              "        console.error('Error during call to suggestCharts:', error);\n",
              "      }\n",
              "      quickchartButtonEl.classList.remove('colab-df-spinner');\n",
              "      quickchartButtonEl.classList.add('colab-df-quickchart-complete');\n",
              "    }\n",
              "    (() => {\n",
              "      let quickchartButtonEl =\n",
              "        document.querySelector('#df-cff5856a-29fe-419f-b17b-6fa027f5e1db button');\n",
              "      quickchartButtonEl.style.display =\n",
              "        google.colab.kernel.accessAllowed ? 'block' : 'none';\n",
              "    })();\n",
              "  </script>\n",
              "</div>\n",
              "\n",
              "    </div>\n",
              "  </div>\n"
            ],
            "application/vnd.google.colaboratory.intrinsic+json": {
              "type": "dataframe",
              "summary": "{\n  \"name\": \"df3_gdp\",\n  \"rows\": 10,\n  \"fields\": [\n    {\n      \"column\": \"country\",\n      \"properties\": {\n        \"dtype\": \"category\",\n        \"num_unique_values\": 1,\n        \"samples\": [\n          \"Angola\"\n        ],\n        \"semantic_type\": \"\",\n        \"description\": \"\"\n      }\n    },\n    {\n      \"column\": \"region\",\n      \"properties\": {\n        \"dtype\": \"category\",\n        \"num_unique_values\": 1,\n        \"samples\": [\n          \"Sub-Saharan Africa\"\n        ],\n        \"semantic_type\": \"\",\n        \"description\": \"\"\n      }\n    },\n    {\n      \"column\": \"year\",\n      \"properties\": {\n        \"dtype\": \"number\",\n        \"std\": 15,\n        \"min\": 1941,\n        \"max\": 1986,\n        \"num_unique_values\": 10,\n        \"samples\": [\n          1981\n        ],\n        \"semantic_type\": \"\",\n        \"description\": \"\"\n      }\n    },\n    {\n      \"column\": \"gdp_pp\",\n      \"properties\": {\n        \"dtype\": \"number\",\n        \"std\": 1189.2625435252817,\n        \"min\": 2170.8,\n        \"max\": 5526.21,\n        \"num_unique_values\": 10,\n        \"samples\": [\n          2953.41\n        ],\n        \"semantic_type\": \"\",\n        \"description\": \"\"\n      }\n    },\n    {\n      \"column\": \"gdp_year\",\n      \"properties\": {\n        \"dtype\": \"number\",\n        \"std\": 203.56512872351743,\n        \"min\": -495.178,\n        \"max\": 182.958,\n        \"num_unique_values\": 10,\n        \"samples\": [\n          -146.55999999999995\n        ],\n        \"semantic_type\": \"\",\n        \"description\": \"\"\n      }\n    },\n    {\n      \"column\": \"next_year\",\n      \"properties\": {\n        \"dtype\": \"number\",\n        \"std\": 15.138251770487457,\n        \"min\": 1946.0,\n        \"max\": 1991.0,\n        \"num_unique_values\": 10,\n        \"samples\": [\n          1986.0\n        ],\n        \"semantic_type\": \"\",\n        \"description\": \"\"\n      }\n    }\n  ]\n}"
            }
          },
          "metadata": {},
          "execution_count": 139
        }
      ]
    },
    {
      "cell_type": "code",
      "source": [
        "# concatenando os dataframes\n",
        "df3_gdp = pd.concat([df3_gdp, df3_gdp_nd]).sort_values(['country', 'year'])\n",
        "\n",
        "# preenchendo os valores com real\n",
        "df3_gdp['kind'] = df3_gdp['kind'].fillna('real')\n",
        "\n",
        "# setando o index\n",
        "df3_gdp.index = df3_gdp['year']"
      ],
      "metadata": {
        "id": "P48Zobf4S9GR"
      },
      "execution_count": 140,
      "outputs": []
    },
    {
      "cell_type": "code",
      "source": [
        "fig, ax = plt.subplots(figsize=(20, 5))\n",
        "df3_gdp[(df3_gdp['kind'] == 'real') & (df3_gdp['country'] == 'United States')].plot(kind='scatter', x='year', y='gdp_pp', ax=ax)\n",
        "df3_gdp[(df3_gdp['kind'] == 'estimated') & (df3_gdp['country'] == 'United States')].plot(kind='scatter', x='year', y='gdp_pp', ax=ax, color = 'orange')\n",
        "plt.show()"
      ],
      "metadata": {
        "id": "qGy0-xjCmVGL",
        "colab": {
          "base_uri": "https://localhost:8080/",
          "height": 417
        },
        "outputId": "99a29acb-f626-4de1-b10d-dacf141c299c"
      },
      "execution_count": 141,
      "outputs": [
        {
          "output_type": "display_data",
          "data": {
            "text/plain": [
              "<Figure size 2000x500 with 1 Axes>"
            ],
            "image/png": "[encoded data removed]"
          },
          "metadata": {}
        }
      ]
    },
    {
      "cell_type": "markdown",
      "source": [],
      "metadata": {
        "id": "TM-gYqhcDZiP"
      }
    }
  ],
  "metadata": {
    "kernelspec": {
      "display_name": "Python 3",
      "language": "python",
      "name": "python3"
    },
    "language_info": {
      "codemirror_mode": {
        "name": "ipython",
        "version": 3
      },
      "file_extension": ".py",
      "mimetype": "text/x-python",
      "name": "python",
      "nbconvert_exporter": "python",
      "pygments_lexer": "ipython3",
      "version": "3.11.7"
    },
    "colab": {
      "provenance": [],
      "collapsed_sections": [
        "SRZNxlvyx8mA",
        "BCe7pDn4x8mK",
        "Qw2er9VWx8mM",
        "VMcxdgA_x8mN",
        "mb3hQOySx8mO",
        "QnFiNJOZx8mP",
        "3J8sPkbQ1Su3"
      ],
      "include_colab_link": true
    }
  },
  "nbformat": 4,
  "nbformat_minor": 0
}